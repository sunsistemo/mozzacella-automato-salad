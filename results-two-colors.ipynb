{
 "cells": [
  {
   "cell_type": "code",
   "execution_count": 1,
   "metadata": {
    "collapsed": false
   },
   "outputs": [
    {
     "name": "stdout",
     "output_type": "stream",
     "text": [
      "{129, 225, 150}\n",
      "{129, 89}\n",
      "{161}\n"
     ]
    }
   ],
   "source": [
    "import json\n",
    "import pandas as pd\n",
    "import matplotlib.pyplot as plt\n",
    "import numpy as np\n",
    "from scipy import integrate\n",
    "from scipy.stats import chisqprob\n",
    "from gmpy2 import digits\n",
    "\n",
    "import recipe"
   ]
  },
  {
   "cell_type": "code",
   "execution_count": 2,
   "metadata": {
    "collapsed": false
   },
   "outputs": [],
   "source": [
    "s_rands_paper = recipe.rands_paper\n",
    "d_five = recipe.five\n",
    "d_five['Entropy_norm'] = d_five['Entropy'] / 8\n",
    "d_five['Entropy'] = d_five['Entropy_norm']\n",
    "d_five = d_five.drop('Entropy_norm', axis=1)\n",
    "\n",
    "d_five['p_value_deviation'] = np.abs(d_five['p-value'] - 0.5)"
   ]
  },
  {
   "cell_type": "code",
   "execution_count": 3,
   "metadata": {
    "collapsed": false
   },
   "outputs": [
    {
     "data": {
      "text/html": [
       "<div>\n",
       "<table border=\"1\" class=\"dataframe\">\n",
       "  <thead>\n",
       "    <tr style=\"text-align: right;\">\n",
       "      <th></th>\n",
       "      <th>File-bytes</th>\n",
       "      <th>Entropy</th>\n",
       "      <th>Chi-square</th>\n",
       "      <th>Mean</th>\n",
       "      <th>Monte-Carlo-Pi</th>\n",
       "      <th>Serial-Correlation</th>\n",
       "      <th>pi_deviation</th>\n",
       "      <th>mean_deviation</th>\n",
       "      <th>p-value</th>\n",
       "      <th>rule</th>\n",
       "      <th>langton</th>\n",
       "      <th>p_value_deviation</th>\n",
       "    </tr>\n",
       "  </thead>\n",
       "  <tbody>\n",
       "    <tr>\n",
       "      <th>0</th>\n",
       "      <td>500000.0</td>\n",
       "      <td>0.000000</td>\n",
       "      <td>1.275000e+08</td>\n",
       "      <td>0.000000</td>\n",
       "      <td>4.000000</td>\n",
       "      <td>-100000.000000</td>\n",
       "      <td>0.858407</td>\n",
       "      <td>127.500000</td>\n",
       "      <td>0.0</td>\n",
       "      <td>0</td>\n",
       "      <td>0.000</td>\n",
       "      <td>0.5</td>\n",
       "    </tr>\n",
       "    <tr>\n",
       "      <th>1</th>\n",
       "      <td>500000.0</td>\n",
       "      <td>0.000000</td>\n",
       "      <td>1.275000e+08</td>\n",
       "      <td>170.000000</td>\n",
       "      <td>4.000000</td>\n",
       "      <td>-100000.000000</td>\n",
       "      <td>0.858407</td>\n",
       "      <td>42.500000</td>\n",
       "      <td>0.0</td>\n",
       "      <td>1</td>\n",
       "      <td>0.125</td>\n",
       "      <td>0.5</td>\n",
       "    </tr>\n",
       "    <tr>\n",
       "      <th>2</th>\n",
       "      <td>500000.0</td>\n",
       "      <td>0.503386</td>\n",
       "      <td>9.810103e+06</td>\n",
       "      <td>34.194354</td>\n",
       "      <td>4.000000</td>\n",
       "      <td>0.058705</td>\n",
       "      <td>0.858407</td>\n",
       "      <td>93.305646</td>\n",
       "      <td>0.0</td>\n",
       "      <td>2</td>\n",
       "      <td>0.125</td>\n",
       "      <td>0.5</td>\n",
       "    </tr>\n",
       "    <tr>\n",
       "      <th>3</th>\n",
       "      <td>500000.0</td>\n",
       "      <td>0.409070</td>\n",
       "      <td>2.106185e+07</td>\n",
       "      <td>99.980700</td>\n",
       "      <td>4.000000</td>\n",
       "      <td>0.076195</td>\n",
       "      <td>0.858407</td>\n",
       "      <td>27.519300</td>\n",
       "      <td>0.0</td>\n",
       "      <td>3</td>\n",
       "      <td>0.250</td>\n",
       "      <td>0.5</td>\n",
       "    </tr>\n",
       "    <tr>\n",
       "      <th>4</th>\n",
       "      <td>500000.0</td>\n",
       "      <td>0.000000</td>\n",
       "      <td>1.275000e+08</td>\n",
       "      <td>0.000000</td>\n",
       "      <td>4.000000</td>\n",
       "      <td>-100000.000000</td>\n",
       "      <td>0.858407</td>\n",
       "      <td>127.500000</td>\n",
       "      <td>0.0</td>\n",
       "      <td>4</td>\n",
       "      <td>0.125</td>\n",
       "      <td>0.5</td>\n",
       "    </tr>\n",
       "    <tr>\n",
       "      <th>5</th>\n",
       "      <td>500000.0</td>\n",
       "      <td>0.000000</td>\n",
       "      <td>1.275000e+08</td>\n",
       "      <td>85.000000</td>\n",
       "      <td>4.000000</td>\n",
       "      <td>-100000.000000</td>\n",
       "      <td>0.858407</td>\n",
       "      <td>42.500000</td>\n",
       "      <td>0.0</td>\n",
       "      <td>5</td>\n",
       "      <td>0.250</td>\n",
       "      <td>0.5</td>\n",
       "    </tr>\n",
       "    <tr>\n",
       "      <th>6</th>\n",
       "      <td>500000.0</td>\n",
       "      <td>0.581286</td>\n",
       "      <td>8.190583e+06</td>\n",
       "      <td>52.432036</td>\n",
       "      <td>4.000000</td>\n",
       "      <td>0.333083</td>\n",
       "      <td>0.858407</td>\n",
       "      <td>75.067964</td>\n",
       "      <td>0.0</td>\n",
       "      <td>6</td>\n",
       "      <td>0.250</td>\n",
       "      <td>0.5</td>\n",
       "    </tr>\n",
       "    <tr>\n",
       "      <th>7</th>\n",
       "      <td>500000.0</td>\n",
       "      <td>0.349774</td>\n",
       "      <td>2.436862e+07</td>\n",
       "      <td>111.704464</td>\n",
       "      <td>4.000000</td>\n",
       "      <td>-0.015313</td>\n",
       "      <td>0.858407</td>\n",
       "      <td>15.795536</td>\n",
       "      <td>0.0</td>\n",
       "      <td>7</td>\n",
       "      <td>0.375</td>\n",
       "      <td>0.5</td>\n",
       "    </tr>\n",
       "    <tr>\n",
       "      <th>8</th>\n",
       "      <td>500000.0</td>\n",
       "      <td>0.000005</td>\n",
       "      <td>1.274995e+08</td>\n",
       "      <td>0.000256</td>\n",
       "      <td>4.000000</td>\n",
       "      <td>-0.000002</td>\n",
       "      <td>0.858407</td>\n",
       "      <td>127.499744</td>\n",
       "      <td>0.0</td>\n",
       "      <td>8</td>\n",
       "      <td>0.125</td>\n",
       "      <td>0.5</td>\n",
       "    </tr>\n",
       "    <tr>\n",
       "      <th>9</th>\n",
       "      <td>500000.0</td>\n",
       "      <td>0.504684</td>\n",
       "      <td>9.186243e+06</td>\n",
       "      <td>102.912640</td>\n",
       "      <td>3.724095</td>\n",
       "      <td>0.297317</td>\n",
       "      <td>0.582502</td>\n",
       "      <td>24.587360</td>\n",
       "      <td>0.0</td>\n",
       "      <td>9</td>\n",
       "      <td>0.250</td>\n",
       "      <td>0.5</td>\n",
       "    </tr>\n",
       "  </tbody>\n",
       "</table>\n",
       "</div>"
      ],
      "text/plain": [
       "   File-bytes   Entropy    Chi-square        Mean  Monte-Carlo-Pi  \\\n",
       "0    500000.0  0.000000  1.275000e+08    0.000000        4.000000   \n",
       "1    500000.0  0.000000  1.275000e+08  170.000000        4.000000   \n",
       "2    500000.0  0.503386  9.810103e+06   34.194354        4.000000   \n",
       "3    500000.0  0.409070  2.106185e+07   99.980700        4.000000   \n",
       "4    500000.0  0.000000  1.275000e+08    0.000000        4.000000   \n",
       "5    500000.0  0.000000  1.275000e+08   85.000000        4.000000   \n",
       "6    500000.0  0.581286  8.190583e+06   52.432036        4.000000   \n",
       "7    500000.0  0.349774  2.436862e+07  111.704464        4.000000   \n",
       "8    500000.0  0.000005  1.274995e+08    0.000256        4.000000   \n",
       "9    500000.0  0.504684  9.186243e+06  102.912640        3.724095   \n",
       "\n",
       "   Serial-Correlation  pi_deviation  mean_deviation  p-value  rule  langton  \\\n",
       "0      -100000.000000      0.858407      127.500000      0.0     0    0.000   \n",
       "1      -100000.000000      0.858407       42.500000      0.0     1    0.125   \n",
       "2            0.058705      0.858407       93.305646      0.0     2    0.125   \n",
       "3            0.076195      0.858407       27.519300      0.0     3    0.250   \n",
       "4      -100000.000000      0.858407      127.500000      0.0     4    0.125   \n",
       "5      -100000.000000      0.858407       42.500000      0.0     5    0.250   \n",
       "6            0.333083      0.858407       75.067964      0.0     6    0.250   \n",
       "7           -0.015313      0.858407       15.795536      0.0     7    0.375   \n",
       "8           -0.000002      0.858407      127.499744      0.0     8    0.125   \n",
       "9            0.297317      0.582502       24.587360      0.0     9    0.250   \n",
       "\n",
       "   p_value_deviation  \n",
       "0                0.5  \n",
       "1                0.5  \n",
       "2                0.5  \n",
       "3                0.5  \n",
       "4                0.5  \n",
       "5                0.5  \n",
       "6                0.5  \n",
       "7                0.5  \n",
       "8                0.5  \n",
       "9                0.5  "
      ]
     },
     "execution_count": 3,
     "metadata": {},
     "output_type": "execute_result"
    }
   ],
   "source": [
    "d_five.head(10)"
   ]
  },
  {
   "cell_type": "code",
   "execution_count": 4,
   "metadata": {
    "collapsed": false
   },
   "outputs": [
    {
     "name": "stdout",
     "output_type": "stream",
     "text": [
      "Random according to paper: #28 {135, 15, 149, 150, 153, 154, 30, 165, 166, 169, 170, 45, 180, 60, 195, 75, 210, 85, 86, 89, 90, 225, 101, 102, 105, 106, 240, 120}\n",
      "Between  5 - 95%: #21 {161, 225, 195, 101, 102, 135, 165, 105, 106, 75, 169, 45, 149, 86, 150, 120, 153, 90, 122, 60, 30}\n",
      "Between 10 - 90%: #19 {161, 225, 195, 165, 102, 135, 105, 106, 75, 169, 45, 149, 86, 150, 153, 90, 122, 60, 30}\n"
     ]
    }
   ],
   "source": [
    "d_five_p10_90 = d_five[(d_five['p-value'] > 0.1) & (d_five['p-value'] < 0.9)]\n",
    "d_five_p05_95 = d_five[(d_five['p-value'] > 0.05) & (d_five['p-value'] < 0.95)]\n",
    "d_rands_paper = d_five[d_five.rule.isin(s_rands_paper)]\n",
    "\n",
    "len_five_p10_90 = len(d_five_p10_90)\n",
    "len_five_p05_95 = len(d_five_p05_95)\n",
    "len_rands_paper = len(d_rands_paper)\n",
    "\n",
    "print(\"Random according to paper: #%d \" % len_rands_paper, end=\"\")\n",
    "print(set(d_rands_paper.rule))\n",
    "print(\"Between  5 - 95%%: #%d \" % len_five_p05_95, end=\"\")\n",
    "print(set(d_five_p05_95.rule))\n",
    "print(\"Between 10 - 90%%: #%d \" % len_five_p10_90, end=\"\")\n",
    "print(set(d_five_p10_90.rule))"
   ]
  },
  {
   "cell_type": "code",
   "execution_count": 5,
   "metadata": {
    "collapsed": false,
    "scrolled": false
   },
   "outputs": [
    {
     "name": "stdout",
     "output_type": "stream",
     "text": [
      "Random from paper but not according to us: {101, 166, 170, 15, 240, 210, 180, 85, 120, 89, 154}\n"
     ]
    }
   ],
   "source": [
    "s_five_p05_p95 = set(d_five_p05_95.rule)\n",
    "s_five_p10_p90 = set(d_five_p10_90.rule)\n",
    "\n",
    "print(\"Random from paper but not according to us: \", end=\"\") \n",
    "print(set(d_rands_paper.rule) - set(d_five_p10_90.rule))"
   ]
  },
  {
   "cell_type": "code",
   "execution_count": null,
   "metadata": {
    "collapsed": false
   },
   "outputs": [],
   "source": [
    "#f = open('stats', 'w+')\n",
    "#line = \"Number of random rules according to paper: %d \" % len_rands_paper\n",
    "#f.write(line)\n",
    "#f.write(set(d_rands_paper.rule))\n",
    "#f.close()"
   ]
  },
  {
   "cell_type": "markdown",
   "metadata": {},
   "source": [
    "# Plots"
   ]
  },
  {
   "cell_type": "markdown",
   "metadata": {},
   "source": [
    "*Entropy vs langton*"
   ]
  },
  {
   "cell_type": "code",
   "execution_count": null,
   "metadata": {
    "collapsed": false
   },
   "outputs": [],
   "source": [
    "# Plot Entropy of all rules against the langton parameter\n",
    "ax1 = plt.gca()\n",
    "d_five.plot(\"langton\", \"Entropy\", ax=ax1, kind=\"scatter\", marker='o', alpha=.5, s=40)\n",
    "d_five_p10_90.plot(\"langton\", \"Entropy\", ax=ax1, kind=\"scatter\", color=\"r\", marker='o', alpha=.5, s=40)\n",
    "plt.show()\n",
    "\n",
    "ax1 = plt.gca()\n",
    "d_five.plot(\"langton\", \"Entropy\", ax=ax1, kind=\"scatter\", marker='o', alpha=.5, s=40)\n",
    "d_five_p10_90.plot(\"langton\", \"Entropy\", ax=ax1, kind=\"scatter\", color=\"r\", marker='o', alpha=.5, s=40)\n",
    "plt.savefig('plots/entropy-langton.png', format='png', dpi=400)\n",
    "\n",
    "ax1 = plt.gca()\n",
    "d_five.plot(\"langton\", \"Entropy\", ax=ax1, kind=\"scatter\", marker='o', alpha=.5, s=40)\n",
    "d_five_p10_90.plot(\"langton\", \"Entropy\", ax=ax1, kind=\"scatter\", color=\"r\", marker='o', alpha=.5, s=40)\n",
    "plt.savefig('plots/entropy-langton.svg', format='svg', dpi=400)"
   ]
  },
  {
   "cell_type": "markdown",
   "metadata": {},
   "source": [
    "*Chi-square vs langton*"
   ]
  },
  {
   "cell_type": "code",
   "execution_count": null,
   "metadata": {
    "collapsed": false
   },
   "outputs": [],
   "source": [
    "# Plot Chi-Square of all rules against the langton parameter\n",
    "ax2 = plt.gca()\n",
    "d_five.plot(\"langton\", \"Chi-square\", ax=ax2, logy=True, kind=\"scatter\", marker='o', alpha=.5, s=40)\n",
    "d_five_p10_90.plot(\"langton\", \"Chi-square\", ax=ax2, logy=True, kind=\"scatter\", color=\"r\", marker='o', alpha=.5, s=40)\n",
    "plt.show()\n",
    "\n",
    "ax2 = plt.gca()\n",
    "d_five.plot(\"langton\", \"Chi-square\", ax=ax2, logy=True, kind=\"scatter\", marker='o', alpha=.5, s=40)\n",
    "d_five_p10_90.plot(\"langton\", \"Chi-square\", ax=ax2, logy=True, kind=\"scatter\", color=\"r\", marker='o', alpha=.5, s=40)\n",
    "plt.savefig('plots/chisquare-langton.png', format='png', dpi=400)\n",
    "\n",
    "ax2 = plt.gca()\n",
    "d_five.plot(\"langton\", \"Chi-square\", ax=ax2, logy=True, kind=\"scatter\", marker='o', alpha=.5, s=40)\n",
    "d_five_p10_90.plot(\"langton\", \"Chi-square\", ax=ax2, logy=True, kind=\"scatter\", color=\"r\", marker='o', alpha=.5, s=40)\n",
    "plt.savefig('plots/chisquare-langton.svg', format='svg', dpi=400)"
   ]
  },
  {
   "cell_type": "code",
   "execution_count": null,
   "metadata": {
    "collapsed": false
   },
   "outputs": [],
   "source": [
    "# Plot Chi-Sqaure of all random paper rules against the langton parameter\n",
    "ax2 = plt.gca()\n",
    "d_rands_paper.plot(\"langton\", \"Chi-square\", ax=ax2, logy=True, kind=\"scatter\", marker='o', alpha=.5, s=40)\n",
    "\n",
    "plt.show()"
   ]
  },
  {
   "cell_type": "code",
   "execution_count": null,
   "metadata": {
    "collapsed": false
   },
   "outputs": [],
   "source": [
    "# Cutoff rules with high Chi-Square (not random)\n",
    "d_rands_paper_chi = d_rands_paper[(d_rands_paper[\"Chi-square\"] < 300)] # 300 or 1E5 is same cutoff\n",
    "\n",
    "print(\"Number of random rules according to paper: %d\" % len(d_rands_paper))\n",
    "print(\"Number of paper rules with high Chi-Square: %d \" % (len(d_rands_paper) - len(d_rands_paper_chi)), end=\"\")\n",
    "print(set(d_rands_paper.rule) - set(d_rands_paper_chi.rule))"
   ]
  },
  {
   "cell_type": "code",
   "execution_count": null,
   "metadata": {
    "collapsed": false
   },
   "outputs": [],
   "source": []
  },
  {
   "cell_type": "code",
   "execution_count": 17,
   "metadata": {
    "collapsed": false
   },
   "outputs": [
    {
     "data": {
      "text/html": [
       "<div>\n",
       "<table border=\"1\" class=\"dataframe\">\n",
       "  <thead>\n",
       "    <tr style=\"text-align: right;\">\n",
       "      <th></th>\n",
       "      <th>pi_deviation</th>\n",
       "      <th>mean_deviation</th>\n",
       "      <th>p_value_deviation</th>\n",
       "    </tr>\n",
       "  </thead>\n",
       "  <tbody>\n",
       "    <tr>\n",
       "      <th>195</th>\n",
       "      <td>0.001276</td>\n",
       "      <td>0.082446</td>\n",
       "      <td>0.013847</td>\n",
       "    </tr>\n",
       "    <tr>\n",
       "      <th>86</th>\n",
       "      <td>0.008420</td>\n",
       "      <td>0.109408</td>\n",
       "      <td>0.045251</td>\n",
       "    </tr>\n",
       "    <tr>\n",
       "      <th>149</th>\n",
       "      <td>0.010588</td>\n",
       "      <td>0.205130</td>\n",
       "      <td>0.052170</td>\n",
       "    </tr>\n",
       "    <tr>\n",
       "      <th>225</th>\n",
       "      <td>0.000460</td>\n",
       "      <td>0.028304</td>\n",
       "      <td>0.054775</td>\n",
       "    </tr>\n",
       "    <tr>\n",
       "      <th>150</th>\n",
       "      <td>0.009388</td>\n",
       "      <td>0.132046</td>\n",
       "      <td>0.073749</td>\n",
       "    </tr>\n",
       "    <tr>\n",
       "      <th>135</th>\n",
       "      <td>0.017645</td>\n",
       "      <td>0.111598</td>\n",
       "      <td>0.165868</td>\n",
       "    </tr>\n",
       "    <tr>\n",
       "      <th>60</th>\n",
       "      <td>0.003140</td>\n",
       "      <td>0.049358</td>\n",
       "      <td>0.215533</td>\n",
       "    </tr>\n",
       "    <tr>\n",
       "      <th>75</th>\n",
       "      <td>0.004052</td>\n",
       "      <td>0.026974</td>\n",
       "      <td>0.224544</td>\n",
       "    </tr>\n",
       "    <tr>\n",
       "      <th>122</th>\n",
       "      <td>0.004828</td>\n",
       "      <td>0.114394</td>\n",
       "      <td>0.227844</td>\n",
       "    </tr>\n",
       "    <tr>\n",
       "      <th>30</th>\n",
       "      <td>0.007324</td>\n",
       "      <td>0.009032</td>\n",
       "      <td>0.270481</td>\n",
       "    </tr>\n",
       "  </tbody>\n",
       "</table>\n",
       "</div>"
      ],
      "text/plain": [
       "     pi_deviation  mean_deviation  p_value_deviation\n",
       "195      0.001276        0.082446           0.013847\n",
       "86       0.008420        0.109408           0.045251\n",
       "149      0.010588        0.205130           0.052170\n",
       "225      0.000460        0.028304           0.054775\n",
       "150      0.009388        0.132046           0.073749\n",
       "135      0.017645        0.111598           0.165868\n",
       "60       0.003140        0.049358           0.215533\n",
       "75       0.004052        0.026974           0.224544\n",
       "122      0.004828        0.114394           0.227844\n",
       "30       0.007324        0.009032           0.270481"
      ]
     },
     "execution_count": 17,
     "metadata": {},
     "output_type": "execute_result"
    }
   ],
   "source": [
    "d_five_p10_90[['pi_deviation', 'mean_deviation', 'p_value_deviation']].sort_values(by='p_value_deviation').head(10)"
   ]
  },
  {
   "cell_type": "code",
   "execution_count": null,
   "metadata": {
    "collapsed": false
   },
   "outputs": [],
   "source": []
  },
  {
   "cell_type": "code",
   "execution_count": null,
   "metadata": {
    "collapsed": true
   },
   "outputs": [],
   "source": []
  }
 ],
 "metadata": {
  "kernelspec": {
   "display_name": "Python 3",
   "language": "python",
   "name": "python3"
  },
  "language_info": {
   "codemirror_mode": {
    "name": "ipython",
    "version": 3
   },
   "file_extension": ".py",
   "mimetype": "text/x-python",
   "name": "python",
   "nbconvert_exporter": "python",
   "pygments_lexer": "ipython3",
   "version": "3.4.1"
  }
 },
 "nbformat": 4,
 "nbformat_minor": 0
}
