{
 "cells": [
  {
   "cell_type": "code",
   "execution_count": 1,
   "metadata": {
    "collapsed": false
   },
   "outputs": [
    {
     "name": "stdout",
     "output_type": "stream",
     "text": [
      "{129, 225, 150}\n",
      "{129, 89}\n",
      "{161}\n"
     ]
    }
   ],
   "source": [
    "import json\n",
    "import pandas as pd\n",
    "import matplotlib.pyplot as plt\n",
    "import numpy as np\n",
    "from scipy import integrate\n",
    "from scipy.stats import chisqprob\n",
    "from gmpy2 import digits\n",
    "\n",
    "import recipe"
   ]
  },
  {
   "cell_type": "code",
   "execution_count": 2,
   "metadata": {
    "collapsed": false
   },
   "outputs": [],
   "source": [
    "s_rands_paper = recipe.rands_paper\n",
    "d_five = recipe.five\n",
    "d_two  = recipe.two"
   ]
  },
  {
   "cell_type": "code",
   "execution_count": 3,
   "metadata": {
    "collapsed": false
   },
   "outputs": [
    {
     "name": "stdout",
     "output_type": "stream",
     "text": [
      "Random according to paper: #28 {135, 15, 149, 150, 153, 154, 30, 165, 166, 169, 170, 45, 180, 60, 195, 75, 210, 85, 86, 89, 90, 225, 101, 102, 105, 106, 240, 120}\n",
      "Between  5 - 95%: #21 {161, 225, 195, 101, 102, 135, 165, 105, 106, 75, 169, 45, 149, 86, 150, 120, 153, 90, 122, 60, 30}\n",
      "Between 10 - 90%: #19 {161, 225, 195, 165, 102, 135, 105, 106, 75, 169, 45, 149, 86, 150, 153, 90, 122, 60, 30}\n"
     ]
    }
   ],
   "source": [
    "d_five_p10_90 = d_five[(d_five['p-value'] > 0.1) & (d_five['p-value'] < 0.9)]\n",
    "d_five_p05_95 = d_five[(d_five['p-value'] > 0.05) & (d_five['p-value'] < 0.95)]\n",
    "d_rands_paper = d_five[d_five.rule.isin(s_rands_paper)]\n",
    "\n",
    "len_five_p10_90 = len(d_five_p10_90)\n",
    "len_five_p05_95 = len(d_five_p05_95)\n",
    "len_rands_paper = len(d_rands_paper)\n",
    "\n",
    "print(\"Random according to paper: #%d \" % len_rands_paper, end=\"\")\n",
    "print(set(d_rands_paper.rule))\n",
    "print(\"Between  5 - 95%%: #%d \" % len_five_p05_95, end=\"\")\n",
    "print(set(d_five_p05_95.rule))\n",
    "print(\"Between 10 - 90%%: #%d \" % len_five_p10_90, end=\"\")\n",
    "print(set(d_five_p10_90.rule))"
   ]
  },
  {
   "cell_type": "code",
   "execution_count": 4,
   "metadata": {
    "collapsed": false,
    "scrolled": false
   },
   "outputs": [
    {
     "name": "stdout",
     "output_type": "stream",
     "text": [
      "p05_95 rules not good enough for p10_90: {120, 101}\n"
     ]
    }
   ],
   "source": [
    "s_five_p05_p95 = set(d_five_p05_95.rule)\n",
    "s_five_p10_p90 = set(d_five_p10_90.rule)\n",
    "\n",
    "print(\"p05_95 rules not good enough for p10_90: \", end=\"\") \n",
    "print(set(d_five_p05_95.rule) - set(d_five_p10_90.rule))"
   ]
  },
  {
   "cell_type": "code",
   "execution_count": null,
   "metadata": {
    "collapsed": false
   },
   "outputs": [],
   "source": [
    "d_five[d_five.rule.isin(s_five_p05_p95)]"
   ]
  },
  {
   "cell_type": "code",
   "execution_count": 20,
   "metadata": {
    "collapsed": false
   },
   "outputs": [],
   "source": [
    "# Plot Entropy of all rules against the langton parameter\n",
    "ax1 = plt.gca()\n",
    "d_five.plot(\"langton\", \"Entropy\", ax=ax1, kind=\"scatter\", marker='o', alpha=.5, s=40)\n",
    "d_five_p05_95.plot(\"langton\", \"Entropy\", ax=ax1, kind=\"scatter\", color=\"r\", marker='o', alpha=.5, s=40)\n",
    "\n",
    "plt.show()"
   ]
  },
  {
   "cell_type": "code",
   "execution_count": 21,
   "metadata": {
    "collapsed": false
   },
   "outputs": [],
   "source": [
    "# Plot Chi-Sqaure of all rules against the langton parameter, cutoff at 1E5\n",
    "d_five_chi = d_five[(d_five[\"Chi-square\"] < 10**5)]\n",
    "\n",
    "ax2 = plt.gca()\n",
    "d_five_chi.plot(\"langton\", \"Chi-square\", ax=ax2, logy=True, kind=\"scatter\", marker='o', alpha=.5, s=40)\n",
    "d_five_p05_95.plot(\"langton\", \"Chi-square\", ax=ax2, logy=True, kind=\"scatter\", color=\"r\", marker='o', alpha=.5, s=40)\n",
    "\n",
    "plt.show()"
   ]
  },
  {
   "cell_type": "code",
   "execution_count": 25,
   "metadata": {
    "collapsed": false
   },
   "outputs": [],
   "source": [
    "# Plot Chi-Sqaure of all random paper rules against the langton parameter\n",
    "ax2 = plt.gca()\n",
    "d_rands_paper.plot(\"langton\", \"Chi-square\", ax=ax2, logy=True, kind=\"scatter\", marker='o', alpha=.5, s=40)\n",
    "d_five_p05_95.plot(\"langton\", \"Chi-square\", ax=ax2, logy=True, kind=\"scatter\", color=\"r\", marker='o', alpha=.5, s=40)\n",
    "\n",
    "plt.show()"
   ]
  },
  {
   "cell_type": "code",
   "execution_count": 34,
   "metadata": {
    "collapsed": false
   },
   "outputs": [
    {
     "name": "stdout",
     "output_type": "stream",
     "text": [
      "Number of random rules according to paper: 28\n",
      "Number of paper rules with high Chi-Square: 8 {166, 170, 15, 240, 210, 180, 85, 154}\n"
     ]
    }
   ],
   "source": [
    "# Cutoff rules with high Chi-Square (not random)\n",
    "d_rands_paper_chi = d_rands_paper[(d_rands_paper[\"Chi-square\"] < 300)] # 300 or 1E5 is same cutoff\n",
    "\n",
    "print(\"Number of random rules according to paper: %d\" % len(d_rands_paper))\n",
    "print(\"Number of paper rules with high Chi-Square: %d \" % (len(d_rands_paper) - len(d_rands_paper_chi)), end=\"\")\n",
    "print(set(d_rands_paper.rule) - set(d_rands_paper_chi.rule))"
   ]
  },
  {
   "cell_type": "code",
   "execution_count": null,
   "metadata": {
    "collapsed": false
   },
   "outputs": [],
   "source": []
  },
  {
   "cell_type": "code",
   "execution_count": null,
   "metadata": {
    "collapsed": false
   },
   "outputs": [],
   "source": []
  },
  {
   "cell_type": "code",
   "execution_count": null,
   "metadata": {
    "collapsed": false
   },
   "outputs": [],
   "source": []
  },
  {
   "cell_type": "code",
   "execution_count": null,
   "metadata": {
    "collapsed": true
   },
   "outputs": [],
   "source": []
  }
 ],
 "metadata": {
  "kernelspec": {
   "display_name": "Python 3",
   "language": "python",
   "name": "python3"
  },
  "language_info": {
   "codemirror_mode": {
    "name": "ipython",
    "version": 3
   },
   "file_extension": ".py",
   "mimetype": "text/x-python",
   "name": "python",
   "nbconvert_exporter": "python",
   "pygments_lexer": "ipython3",
   "version": "3.4.1"
  }
 },
 "nbformat": 4,
 "nbformat_minor": 0
}
