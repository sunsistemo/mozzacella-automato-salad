{
 "cells": [
  {
   "cell_type": "code",
   "execution_count": 1,
   "metadata": {
    "collapsed": false
   },
   "outputs": [],
   "source": [
    "import json\n",
    "import pandas as pd\n",
    "import matplotlib.pyplot as plt\n",
    "import numpy as np\n",
    "from scipy import integrate\n",
    "from scipy.stats import chisqprob\n",
    "from gmpy2 import digits\n",
    "\n",
    "import recipe"
   ]
  },
  {
   "cell_type": "code",
   "execution_count": 2,
   "metadata": {
    "collapsed": false
   },
   "outputs": [],
   "source": [
    "s_rands_paper = recipe.rands_paper\n",
    "d_five = recipe.five\n",
    "d_five['Entropy_norm'] = d_five['Entropy'] / 8\n",
    "d_five['Entropy'] = d_five['Entropy_norm']\n",
    "d_five = d_five.drop('Entropy_norm', axis=1)\n",
    "\n",
    "d_five['p_value_deviation'] = np.abs(d_five['p-value'] - 0.5)"
   ]
  },
  {
   "cell_type": "code",
   "execution_count": 3,
   "metadata": {
    "collapsed": false
   },
   "outputs": [
    {
     "name": "stdout",
     "output_type": "stream",
     "text": [
      "Random according to paper: #28 {135, 15, 149, 150, 153, 154, 30, 165, 166, 169, 170, 45, 180, 60, 195, 75, 210, 85, 86, 89, 90, 225, 101, 102, 105, 106, 240, 120}\n",
      "Between  5 - 95%: #21 {161, 225, 195, 101, 102, 135, 165, 105, 106, 75, 169, 45, 149, 86, 150, 120, 153, 90, 122, 60, 30}\n",
      "Between 10 - 90%: #19 {161, 225, 195, 165, 102, 135, 105, 106, 75, 169, 45, 149, 86, 150, 153, 90, 122, 60, 30}\n"
     ]
    }
   ],
   "source": [
    "d_five_p10_90 = d_five[(d_five['p-value'] > 0.1) & (d_five['p-value'] < 0.9)]\n",
    "d_five_p05_95 = d_five[(d_five['p-value'] > 0.05) & (d_five['p-value'] < 0.95)]\n",
    "d_rands_paper = d_five[d_five.rule.isin(s_rands_paper)]\n",
    "\n",
    "len_five_p10_90 = len(d_five_p10_90)\n",
    "len_five_p05_95 = len(d_five_p05_95)\n",
    "len_rands_paper = len(d_rands_paper)\n",
    "\n",
    "print(\"Random according to paper: #%d \" % len_rands_paper, end=\"\")\n",
    "print(set(d_rands_paper.rule))\n",
    "print(\"Between  5 - 95%%: #%d \" % len_five_p05_95, end=\"\")\n",
    "print(set(d_five_p05_95.rule))\n",
    "print(\"Between 10 - 90%%: #%d \" % len_five_p10_90, end=\"\")\n",
    "print(set(d_five_p10_90.rule))"
   ]
  },
  {
   "cell_type": "code",
   "execution_count": 4,
   "metadata": {
    "collapsed": false,
    "scrolled": false
   },
   "outputs": [
    {
     "name": "stdout",
     "output_type": "stream",
     "text": [
      "Random from paper but not according to us: {101, 166, 170, 15, 240, 210, 180, 85, 120, 89, 154}\n"
     ]
    }
   ],
   "source": [
    "s_five_p05_p95 = set(d_five_p05_95.rule)\n",
    "s_five_p10_p90 = set(d_five_p10_90.rule)\n",
    "\n",
    "print(\"Random from paper but not according to us: \", end=\"\") \n",
    "print(set(d_rands_paper.rule) - set(d_five_p10_90.rule))"
   ]
  },
  {
   "cell_type": "markdown",
   "metadata": {},
   "source": [
    "# Plots"
   ]
  },
  {
   "cell_type": "markdown",
   "metadata": {},
   "source": [
    "### Entropy vs langton\n",
    "blue = all, red = our random"
   ]
  },
  {
   "cell_type": "code",
   "execution_count": 5,
   "metadata": {
    "collapsed": false
   },
   "outputs": [],
   "source": [
    "# Plot Entropy of all rules against the langton parameter\n",
    "ax1 = plt.gca()\n",
    "d_five.plot(\"langton\", \"Entropy\", ax=ax1, kind=\"scatter\", marker='o', alpha=.5, s=40)\n",
    "d_five_p10_90.plot(\"langton\", \"Entropy\", ax=ax1, kind=\"scatter\", color=\"r\", marker='o', alpha=.5, s=40)\n",
    "plt.show()\n",
    "\n",
    "ax1 = plt.gca()\n",
    "d_five.plot(\"langton\", \"Entropy\", ax=ax1, kind=\"scatter\", marker='o', alpha=.5, s=40)\n",
    "d_five_p10_90.plot(\"langton\", \"Entropy\", ax=ax1, kind=\"scatter\", color=\"r\", marker='o', alpha=.5, s=40)\n",
    "plt.savefig('plots/entropy-langton.png', format='png', dpi=400)\n",
    "\n",
    "ax1 = plt.gca()\n",
    "d_five.plot(\"langton\", \"Entropy\", ax=ax1, kind=\"scatter\", marker='o', alpha=.5, s=40)\n",
    "d_five_p10_90.plot(\"langton\", \"Entropy\", ax=ax1, kind=\"scatter\", color=\"r\", marker='o', alpha=.5, s=40)\n",
    "plt.savefig('plots/entropy-langton.svg', format='svg', dpi=400)"
   ]
  },
  {
   "cell_type": "markdown",
   "metadata": {},
   "source": [
    "### Chi-square vs langton\n",
    "blue = all, red = our random"
   ]
  },
  {
   "cell_type": "code",
   "execution_count": 6,
   "metadata": {
    "collapsed": false
   },
   "outputs": [],
   "source": [
    "# Plot Chi-Square of all rules against the langton parameter\n",
    "ax2 = plt.gca()\n",
    "d_five.plot(\"langton\", \"Chi-square\", ax=ax2, logy=True, kind=\"scatter\", marker='o', alpha=.5, s=40)\n",
    "d_five_p10_90.plot(\"langton\", \"Chi-square\", ax=ax2, logy=True, kind=\"scatter\", color=\"r\", marker='o', alpha=.5, s=40)\n",
    "plt.show()\n",
    "\n",
    "ax2 = plt.gca()\n",
    "d_five.plot(\"langton\", \"Chi-square\", ax=ax2, logy=True, kind=\"scatter\", marker='o', alpha=.5, s=40)\n",
    "d_five_p10_90.plot(\"langton\", \"Chi-square\", ax=ax2, logy=True, kind=\"scatter\", color=\"r\", marker='o', alpha=.5, s=40)\n",
    "plt.savefig('plots/chisquare-langton.png', format='png', dpi=400)\n",
    "\n",
    "ax2 = plt.gca()\n",
    "d_five.plot(\"langton\", \"Chi-square\", ax=ax2, logy=True, kind=\"scatter\", marker='o', alpha=.5, s=40)\n",
    "d_five_p10_90.plot(\"langton\", \"Chi-square\", ax=ax2, logy=True, kind=\"scatter\", color=\"r\", marker='o', alpha=.5, s=40)\n",
    "plt.savefig('plots/chisquare-langton.svg', format='svg', dpi=400)"
   ]
  },
  {
   "cell_type": "markdown",
   "metadata": {},
   "source": [
    "### Mean vs langton\n",
    "blue = all, red = our random"
   ]
  },
  {
   "cell_type": "code",
   "execution_count": 7,
   "metadata": {
    "collapsed": false
   },
   "outputs": [],
   "source": [
    "# Plot Mean of all rules against the langton parameter\n",
    "ax2 = plt.gca()\n",
    "#d_five.plot(\"langton\", \"Mean\", ax=ax2, logy=True, kind=\"scatter\", marker='o', alpha=.5, s=40)\n",
    "d_five_p10_90.plot(\"langton\", \"Mean\", ax=ax2, kind=\"scatter\", color=\"r\", marker='o', alpha=.5, s=40)\n",
    "plt.show()\n",
    "\n",
    "ax2 = plt.gca()\n",
    "#d_five.plot(\"langton\", \"Chi-square\", ax=ax2, logy=True, kind=\"scatter\", marker='o', alpha=.5, s=40)\n",
    "d_five_p10_90.plot(\"langton\", \"Mean\", ax=ax2, kind=\"scatter\", color=\"r\", marker='o', alpha=.5, s=40)\n",
    "plt.savefig('plots/mean-langton.png', format='png', dpi=400)\n",
    "\n",
    "ax2 = plt.gca()\n",
    "#d_five.plot(\"langton\", \"Chi-square\", ax=ax2, logy=True, kind=\"scatter\", marker='o', alpha=.5, s=40)\n",
    "d_five_p10_90.plot(\"langton\", \"Mean\", ax=ax2, kind=\"scatter\", color=\"r\", marker='o', alpha=.5, s=40)\n",
    "plt.savefig('plots/mean-langton.svg', format='svg', dpi=400)"
   ]
  },
  {
   "cell_type": "code",
   "execution_count": null,
   "metadata": {
    "collapsed": true
   },
   "outputs": [],
   "source": []
  },
  {
   "cell_type": "code",
   "execution_count": 8,
   "metadata": {
    "collapsed": false
   },
   "outputs": [],
   "source": [
    "# Plot Chi-Sqaure of all random paper rules against the langton parameter\n",
    "ax2 = plt.gca()\n",
    "d_rands_paper.plot(\"langton\", \"Chi-square\", ax=ax2, logy=True, kind=\"scatter\", marker='o', alpha=.5, s=40)\n",
    "\n",
    "plt.show()"
   ]
  },
  {
   "cell_type": "code",
   "execution_count": 9,
   "metadata": {
    "collapsed": false
   },
   "outputs": [
    {
     "name": "stdout",
     "output_type": "stream",
     "text": [
      "Number of random rules according to paper: 28\n",
      "Number of paper rules with high Chi-Square: 8 {166, 170, 15, 240, 210, 180, 85, 154}\n"
     ]
    }
   ],
   "source": [
    "# Cutoff rules with high Chi-Square (not random)\n",
    "d_rands_paper_chi = d_rands_paper[(d_rands_paper[\"Chi-square\"] < 300)] # 300 or 1E5 is same cutoff\n",
    "\n",
    "print(\"Number of random rules according to paper: %d\" % len(d_rands_paper))\n",
    "print(\"Number of paper rules with high Chi-Square: %d \" % (len(d_rands_paper) - len(d_rands_paper_chi)), end=\"\")\n",
    "print(set(d_rands_paper.rule) - set(d_rands_paper_chi.rule))"
   ]
  },
  {
   "cell_type": "code",
   "execution_count": 10,
   "metadata": {
    "collapsed": false
   },
   "outputs": [],
   "source": [
    "selection = d_five_p10_90[['rule', 'pi_deviation', 'mean_deviation', 'p_value_deviation']]"
   ]
  },
  {
   "cell_type": "code",
   "execution_count": 11,
   "metadata": {
    "collapsed": false
   },
   "outputs": [],
   "source": [
    "p_value_top_10 = selection.sort_values(by='p_value_deviation').head(10)\n",
    "mean_top_10 = selection.sort_values(by='mean_deviation').head(10)\n",
    "pi_top_10 = selection.sort_values(by='pi_deviation').head(10)"
   ]
  },
  {
   "cell_type": "code",
   "execution_count": 12,
   "metadata": {
    "collapsed": false
   },
   "outputs": [
    {
     "name": "stdout",
     "output_type": "stream",
     "text": [
      "Top 10 p-value: \t[195  86 149 225 150 135  60  75 122  30]\n",
      "Top 10 Mean: \t\t[ 30 105 102 169  45  75 225 106  60  90]\n",
      "Top 10 Monte-Carlo-Pi: \t[ 90 225  45 195 105 165 153 169 102  60]\n",
      "\n",
      "Both in top 10 p-value and Mean: {225, 75, 60, 30}\n",
      "In all three top 10s: {225, 60}\n"
     ]
    }
   ],
   "source": [
    "print(\"Top 10 p-value: \\t\", end=\"\")\n",
    "print(p_value_top_10.rule.values)\n",
    "print(\"Top 10 Mean: \\t\\t\", end=\"\")\n",
    "print(mean_top_10.rule.values)\n",
    "print(\"Top 10 Monte-Carlo-Pi: \\t\", end=\"\")\n",
    "print(pi_top_10.rule.values)\n",
    "\n",
    "print()\n",
    "\n",
    "print(\"Both in top 10 p-value and Mean: \", end=\"\")\n",
    "print(set(p_value_top_10.rule.values) & set(mean_top_10.rule.values))\n",
    "print(\"In all three top 10s: \", end=\"\")\n",
    "print(set(p_value_top_10.rule.values) & set(mean_top_10.rule.values) & set(pi_top_10.rule.values))"
   ]
  },
  {
   "cell_type": "code",
   "execution_count": 13,
   "metadata": {
    "collapsed": false
   },
   "outputs": [
    {
     "data": {
      "text/html": [
       "<div>\n",
       "<table border=\"1\" class=\"dataframe\">\n",
       "  <thead>\n",
       "    <tr style=\"text-align: right;\">\n",
       "      <th></th>\n",
       "      <th>rule</th>\n",
       "      <th>pi_deviation</th>\n",
       "      <th>mean_deviation</th>\n",
       "      <th>p_value_deviation</th>\n",
       "    </tr>\n",
       "  </thead>\n",
       "  <tbody>\n",
       "    <tr>\n",
       "      <th>60</th>\n",
       "      <td>60</td>\n",
       "      <td>0.00314</td>\n",
       "      <td>0.049358</td>\n",
       "      <td>0.215533</td>\n",
       "    </tr>\n",
       "    <tr>\n",
       "      <th>225</th>\n",
       "      <td>225</td>\n",
       "      <td>0.00046</td>\n",
       "      <td>0.028304</td>\n",
       "      <td>0.054775</td>\n",
       "    </tr>\n",
       "  </tbody>\n",
       "</table>\n",
       "</div>"
      ],
      "text/plain": [
       "     rule  pi_deviation  mean_deviation  p_value_deviation\n",
       "60     60       0.00314        0.049358           0.215533\n",
       "225   225       0.00046        0.028304           0.054775"
      ]
     },
     "execution_count": 13,
     "metadata": {},
     "output_type": "execute_result"
    }
   ],
   "source": [
    "selection[selection.rule.isin(set(p_value_top_10.rule.values) & set(mean_top_10.rule.values) & set(pi_top_10.rule.values))]"
   ]
  },
  {
   "cell_type": "code",
   "execution_count": null,
   "metadata": {
    "collapsed": true
   },
   "outputs": [],
   "source": []
  }
 ],
 "metadata": {
  "kernelspec": {
   "display_name": "Python 3",
   "language": "python",
   "name": "python3"
  },
  "language_info": {
   "codemirror_mode": {
    "name": "ipython",
    "version": 3
   },
   "file_extension": ".py",
   "mimetype": "text/x-python",
   "name": "python",
   "nbconvert_exporter": "python",
   "pygments_lexer": "ipython3",
   "version": "3.4.1"
  }
 },
 "nbformat": 4,
 "nbformat_minor": 0
}
