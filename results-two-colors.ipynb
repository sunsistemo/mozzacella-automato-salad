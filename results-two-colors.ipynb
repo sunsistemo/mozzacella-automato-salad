{
 "cells": [
  {
   "cell_type": "code",
   "execution_count": 1,
   "metadata": {
    "collapsed": false
   },
   "outputs": [],
   "source": [
    "import json\n",
    "import pandas as pd\n",
    "import matplotlib.pyplot as plt\n",
    "import numpy as np\n",
    "from scipy import integrate\n",
    "from scipy.stats import chisqprob\n",
    "from gmpy2 import digits\n",
    "\n",
    "import recipe"
   ]
  },
  {
   "cell_type": "code",
   "execution_count": 2,
   "metadata": {
    "collapsed": false
   },
   "outputs": [],
   "source": [
    "s_rands_paper = recipe.rands_paper\n",
    "d_five = recipe.five\n",
    "d_five['Entropy_norm'] = d_five['Entropy'] / 8\n",
    "d_five['Entropy'] = d_five['Entropy_norm']\n",
    "d_five = d_five.drop('Entropy_norm', axis=1)\n",
    "\n",
    "d_five['p_value_deviation'] = np.abs(d_five['p-value'] - 0.5)"
   ]
  },
  {
   "cell_type": "code",
   "execution_count": 3,
   "metadata": {
    "collapsed": false
   },
   "outputs": [
    {
     "name": "stdout",
     "output_type": "stream",
     "text": [
      "Random according to paper: #28 {135, 15, 149, 150, 153, 154, 30, 165, 166, 169, 170, 45, 180, 60, 195, 75, 210, 85, 86, 89, 90, 225, 101, 102, 105, 106, 240, 120}\n",
      "Between  5 - 95%: #21 {161, 225, 195, 101, 102, 135, 165, 105, 106, 75, 169, 45, 149, 86, 150, 120, 153, 90, 122, 60, 30}\n",
      "Between 10 - 90%: #19 {161, 225, 195, 165, 102, 135, 105, 106, 75, 169, 45, 149, 86, 150, 153, 90, 122, 60, 30}\n"
     ]
    }
   ],
   "source": [
    "d_five_p10_90 = d_five[(d_five['p-value'] > 0.1) & (d_five['p-value'] < 0.9)]\n",
    "d_five_p05_95 = d_five[(d_five['p-value'] > 0.05) & (d_five['p-value'] < 0.95)]\n",
    "d_rands_paper = d_five[d_five.rule.isin(s_rands_paper)]\n",
    "\n",
    "len_five_p10_90 = len(d_five_p10_90)\n",
    "len_five_p05_95 = len(d_five_p05_95)\n",
    "len_rands_paper = len(d_rands_paper)\n",
    "\n",
    "print(\"Random according to paper: #%d \" % len_rands_paper, end=\"\")\n",
    "print(set(d_rands_paper.rule))\n",
    "print(\"Between  5 - 95%%: #%d \" % len_five_p05_95, end=\"\")\n",
    "print(set(d_five_p05_95.rule))\n",
    "print(\"Between 10 - 90%%: #%d \" % len_five_p10_90, end=\"\")\n",
    "print(set(d_five_p10_90.rule))"
   ]
  },
  {
   "cell_type": "code",
   "execution_count": 4,
   "metadata": {
    "collapsed": false,
    "scrolled": false
   },
   "outputs": [
    {
     "name": "stdout",
     "output_type": "stream",
     "text": [
      "Random from paper but not according to us: {101, 166, 170, 15, 240, 210, 180, 85, 120, 89, 154}\n"
     ]
    }
   ],
   "source": [
    "s_five_p05_p95 = set(d_five_p05_95.rule)\n",
    "s_five_p10_p90 = set(d_five_p10_90.rule)\n",
    "\n",
    "print(\"Random from paper but not according to us: \", end=\"\") \n",
    "print(set(d_rands_paper.rule) - set(d_five_p10_90.rule))"
   ]
  },
  {
   "cell_type": "markdown",
   "metadata": {},
   "source": [
    "# Plots"
   ]
  },
  {
   "cell_type": "markdown",
   "metadata": {},
   "source": [
    "### Entropy vs langton\n",
    "blue = all, red = our random"
   ]
  },
  {
   "cell_type": "code",
   "execution_count": null,
   "metadata": {
    "collapsed": false
   },
   "outputs": [],
   "source": [
    "# Plot Entropy of all rules against the langton parameter\n",
    "ax1 = plt.gca()\n",
    "d_five.plot(\"langton\", \"Entropy\", ax=ax1, kind=\"scatter\", marker='o', alpha=.5, s=40)\n",
    "d_five_p10_90.plot(\"langton\", \"Entropy\", ax=ax1, kind=\"scatter\", color=\"r\", marker='o', alpha=.5, s=40)\n",
    "plt.show()\n",
    "\n",
    "ax1 = plt.gca()\n",
    "d_five.plot(\"langton\", \"Entropy\", ax=ax1, kind=\"scatter\", marker='o', alpha=.5, s=40)\n",
    "d_five_p10_90.plot(\"langton\", \"Entropy\", ax=ax1, kind=\"scatter\", color=\"r\", marker='o', alpha=.5, s=40)\n",
    "plt.savefig('plots/entropy-langton.png', format='png', dpi=400)\n",
    "\n",
    "ax1 = plt.gca()\n",
    "d_five.plot(\"langton\", \"Entropy\", ax=ax1, kind=\"scatter\", marker='o', alpha=.5, s=40)\n",
    "d_five_p10_90.plot(\"langton\", \"Entropy\", ax=ax1, kind=\"scatter\", color=\"r\", marker='o', alpha=.5, s=40)\n",
    "plt.savefig('plots/entropy-langton.svg', format='svg', dpi=400)"
   ]
  },
  {
   "cell_type": "markdown",
   "metadata": {},
   "source": [
    "### Chi-square vs langton\n",
    "blue = all, red = our random"
   ]
  },
  {
   "cell_type": "code",
   "execution_count": null,
   "metadata": {
    "collapsed": false
   },
   "outputs": [],
   "source": [
    "# Plot Chi-Square of all rules against the langton parameter\n",
    "ax2 = plt.gca()\n",
    "d_five.plot(\"langton\", \"Chi-square\", ax=ax2, logy=True, kind=\"scatter\", marker='o', alpha=.5, s=40)\n",
    "d_five_p10_90.plot(\"langton\", \"Chi-square\", ax=ax2, logy=True, kind=\"scatter\", color=\"r\", marker='o', alpha=.5, s=40)\n",
    "plt.show()\n",
    "\n",
    "ax2 = plt.gca()\n",
    "d_five.plot(\"langton\", \"Chi-square\", ax=ax2, logy=True, kind=\"scatter\", marker='o', alpha=.5, s=40)\n",
    "d_five_p10_90.plot(\"langton\", \"Chi-square\", ax=ax2, logy=True, kind=\"scatter\", color=\"r\", marker='o', alpha=.5, s=40)\n",
    "plt.savefig('plots/chisquare-langton.png', format='png', dpi=400)\n",
    "\n",
    "ax2 = plt.gca()\n",
    "d_five.plot(\"langton\", \"Chi-square\", ax=ax2, logy=True, kind=\"scatter\", marker='o', alpha=.5, s=40)\n",
    "d_five_p10_90.plot(\"langton\", \"Chi-square\", ax=ax2, logy=True, kind=\"scatter\", color=\"r\", marker='o', alpha=.5, s=40)\n",
    "plt.savefig('plots/chisquare-langton.svg', format='svg', dpi=400)"
   ]
  },
  {
   "cell_type": "markdown",
   "metadata": {},
   "source": [
    "### Mean vs langton\n",
    "blue = all, red = our random"
   ]
  },
  {
   "cell_type": "code",
   "execution_count": 15,
   "metadata": {
    "collapsed": false
   },
   "outputs": [],
   "source": [
    "# Plot Mean of all rules against the langton parameter\n",
    "ax2 = plt.gca()\n",
    "#d_five.plot(\"langton\", \"Mean\", ax=ax2, logy=True, kind=\"scatter\", marker='o', alpha=.5, s=40)\n",
    "d_five_p10_90.plot(\"langton\", \"Mean\", ax=ax2, kind=\"scatter\", color=\"r\", marker='o', alpha=.5, s=40)\n",
    "plt.show()\n",
    "\n",
    "ax2 = plt.gca()\n",
    "#d_five.plot(\"langton\", \"Chi-square\", ax=ax2, logy=True, kind=\"scatter\", marker='o', alpha=.5, s=40)\n",
    "d_five_p10_90.plot(\"langton\", \"Chi-square\", ax=ax2, kind=\"scatter\", color=\"r\", marker='o', alpha=.5, s=40)\n",
    "plt.savefig('plots/mean-langton.png', format='png', dpi=400)\n",
    "\n",
    "ax2 = plt.gca()\n",
    "#d_five.plot(\"langton\", \"Chi-square\", ax=ax2, logy=True, kind=\"scatter\", marker='o', alpha=.5, s=40)\n",
    "d_five_p10_90.plot(\"langton\", \"Chi-square\", ax=ax2, kind=\"scatter\", color=\"r\", marker='o', alpha=.5, s=40)\n",
    "plt.savefig('plots/mean-langton.svg', format='svg', dpi=400)"
   ]
  },
  {
   "cell_type": "code",
   "execution_count": null,
   "metadata": {
    "collapsed": true
   },
   "outputs": [],
   "source": []
  },
  {
   "cell_type": "code",
   "execution_count": null,
   "metadata": {
    "collapsed": false
   },
   "outputs": [],
   "source": [
    "# Plot Chi-Sqaure of all random paper rules against the langton parameter\n",
    "ax2 = plt.gca()\n",
    "d_rands_paper.plot(\"langton\", \"Chi-square\", ax=ax2, logy=True, kind=\"scatter\", marker='o', alpha=.5, s=40)\n",
    "\n",
    "plt.show()"
   ]
  },
  {
   "cell_type": "code",
   "execution_count": 8,
   "metadata": {
    "collapsed": false
   },
   "outputs": [
    {
     "name": "stdout",
     "output_type": "stream",
     "text": [
      "Number of random rules according to paper: 28\n",
      "Number of paper rules with high Chi-Square: 8 {166, 170, 15, 240, 210, 180, 85, 154}\n"
     ]
    }
   ],
   "source": [
    "# Cutoff rules with high Chi-Square (not random)\n",
    "d_rands_paper_chi = d_rands_paper[(d_rands_paper[\"Chi-square\"] < 300)] # 300 or 1E5 is same cutoff\n",
    "\n",
    "print(\"Number of random rules according to paper: %d\" % len(d_rands_paper))\n",
    "print(\"Number of paper rules with high Chi-Square: %d \" % (len(d_rands_paper) - len(d_rands_paper_chi)), end=\"\")\n",
    "print(set(d_rands_paper.rule) - set(d_rands_paper_chi.rule))"
   ]
  },
  {
   "cell_type": "code",
   "execution_count": null,
   "metadata": {
    "collapsed": false
   },
   "outputs": [],
   "source": []
  },
  {
   "cell_type": "code",
   "execution_count": 12,
   "metadata": {
    "collapsed": false
   },
   "outputs": [
    {
     "data": {
      "text/html": [
       "<div>\n",
       "<table border=\"1\" class=\"dataframe\">\n",
       "  <thead>\n",
       "    <tr style=\"text-align: right;\">\n",
       "      <th></th>\n",
       "      <th>pi_deviation</th>\n",
       "      <th>mean_deviation</th>\n",
       "      <th>p_value_deviation</th>\n",
       "    </tr>\n",
       "  </thead>\n",
       "  <tbody>\n",
       "    <tr>\n",
       "      <th>195</th>\n",
       "      <td>0.001276</td>\n",
       "      <td>0.082446</td>\n",
       "      <td>0.013847</td>\n",
       "    </tr>\n",
       "    <tr>\n",
       "      <th>86</th>\n",
       "      <td>0.008420</td>\n",
       "      <td>0.109408</td>\n",
       "      <td>0.045251</td>\n",
       "    </tr>\n",
       "    <tr>\n",
       "      <th>149</th>\n",
       "      <td>0.010588</td>\n",
       "      <td>0.205130</td>\n",
       "      <td>0.052170</td>\n",
       "    </tr>\n",
       "    <tr>\n",
       "      <th>225</th>\n",
       "      <td>0.000460</td>\n",
       "      <td>0.028304</td>\n",
       "      <td>0.054775</td>\n",
       "    </tr>\n",
       "    <tr>\n",
       "      <th>150</th>\n",
       "      <td>0.009388</td>\n",
       "      <td>0.132046</td>\n",
       "      <td>0.073749</td>\n",
       "    </tr>\n",
       "    <tr>\n",
       "      <th>135</th>\n",
       "      <td>0.017645</td>\n",
       "      <td>0.111598</td>\n",
       "      <td>0.165868</td>\n",
       "    </tr>\n",
       "    <tr>\n",
       "      <th>60</th>\n",
       "      <td>0.003140</td>\n",
       "      <td>0.049358</td>\n",
       "      <td>0.215533</td>\n",
       "    </tr>\n",
       "    <tr>\n",
       "      <th>75</th>\n",
       "      <td>0.004052</td>\n",
       "      <td>0.026974</td>\n",
       "      <td>0.224544</td>\n",
       "    </tr>\n",
       "    <tr>\n",
       "      <th>122</th>\n",
       "      <td>0.004828</td>\n",
       "      <td>0.114394</td>\n",
       "      <td>0.227844</td>\n",
       "    </tr>\n",
       "    <tr>\n",
       "      <th>30</th>\n",
       "      <td>0.007324</td>\n",
       "      <td>0.009032</td>\n",
       "      <td>0.270481</td>\n",
       "    </tr>\n",
       "  </tbody>\n",
       "</table>\n",
       "</div>"
      ],
      "text/plain": [
       "     pi_deviation  mean_deviation  p_value_deviation\n",
       "195      0.001276        0.082446           0.013847\n",
       "86       0.008420        0.109408           0.045251\n",
       "149      0.010588        0.205130           0.052170\n",
       "225      0.000460        0.028304           0.054775\n",
       "150      0.009388        0.132046           0.073749\n",
       "135      0.017645        0.111598           0.165868\n",
       "60       0.003140        0.049358           0.215533\n",
       "75       0.004052        0.026974           0.224544\n",
       "122      0.004828        0.114394           0.227844\n",
       "30       0.007324        0.009032           0.270481"
      ]
     },
     "execution_count": 12,
     "metadata": {},
     "output_type": "execute_result"
    }
   ],
   "source": [
    "d_five_p10_90[['pi_deviation', 'mean_deviation', 'p_value_deviation']].sort_values(by='p_value_deviation').head(10)"
   ]
  },
  {
   "cell_type": "code",
   "execution_count": 11,
   "metadata": {
    "collapsed": false
   },
   "outputs": [
    {
     "data": {
      "text/html": [
       "<div>\n",
       "<table border=\"1\" class=\"dataframe\">\n",
       "  <thead>\n",
       "    <tr style=\"text-align: right;\">\n",
       "      <th></th>\n",
       "      <th>pi_deviation</th>\n",
       "      <th>Mean</th>\n",
       "      <th>mean_deviation</th>\n",
       "      <th>p_value_deviation</th>\n",
       "    </tr>\n",
       "  </thead>\n",
       "  <tbody>\n",
       "    <tr>\n",
       "      <th>30</th>\n",
       "      <td>0.007324</td>\n",
       "      <td>127.490968</td>\n",
       "      <td>0.009032</td>\n",
       "      <td>0.270481</td>\n",
       "    </tr>\n",
       "    <tr>\n",
       "      <th>105</th>\n",
       "      <td>0.002140</td>\n",
       "      <td>127.512444</td>\n",
       "      <td>0.012444</td>\n",
       "      <td>0.395692</td>\n",
       "    </tr>\n",
       "    <tr>\n",
       "      <th>102</th>\n",
       "      <td>0.002716</td>\n",
       "      <td>127.485382</td>\n",
       "      <td>0.014618</td>\n",
       "      <td>0.367914</td>\n",
       "    </tr>\n",
       "    <tr>\n",
       "      <th>169</th>\n",
       "      <td>0.002708</td>\n",
       "      <td>127.474842</td>\n",
       "      <td>0.025158</td>\n",
       "      <td>0.312015</td>\n",
       "    </tr>\n",
       "    <tr>\n",
       "      <th>45</th>\n",
       "      <td>0.000836</td>\n",
       "      <td>127.526764</td>\n",
       "      <td>0.026764</td>\n",
       "      <td>0.290890</td>\n",
       "    </tr>\n",
       "    <tr>\n",
       "      <th>75</th>\n",
       "      <td>0.004052</td>\n",
       "      <td>127.473026</td>\n",
       "      <td>0.026974</td>\n",
       "      <td>0.224544</td>\n",
       "    </tr>\n",
       "    <tr>\n",
       "      <th>225</th>\n",
       "      <td>0.000460</td>\n",
       "      <td>127.528304</td>\n",
       "      <td>0.028304</td>\n",
       "      <td>0.054775</td>\n",
       "    </tr>\n",
       "    <tr>\n",
       "      <th>106</th>\n",
       "      <td>0.003284</td>\n",
       "      <td>127.466532</td>\n",
       "      <td>0.033468</td>\n",
       "      <td>0.388576</td>\n",
       "    </tr>\n",
       "    <tr>\n",
       "      <th>60</th>\n",
       "      <td>0.003140</td>\n",
       "      <td>127.450642</td>\n",
       "      <td>0.049358</td>\n",
       "      <td>0.215533</td>\n",
       "    </tr>\n",
       "    <tr>\n",
       "      <th>90</th>\n",
       "      <td>0.000116</td>\n",
       "      <td>127.435050</td>\n",
       "      <td>0.064950</td>\n",
       "      <td>0.347723</td>\n",
       "    </tr>\n",
       "    <tr>\n",
       "      <th>195</th>\n",
       "      <td>0.001276</td>\n",
       "      <td>127.417554</td>\n",
       "      <td>0.082446</td>\n",
       "      <td>0.013847</td>\n",
       "    </tr>\n",
       "    <tr>\n",
       "      <th>165</th>\n",
       "      <td>0.002428</td>\n",
       "      <td>127.585176</td>\n",
       "      <td>0.085176</td>\n",
       "      <td>0.333809</td>\n",
       "    </tr>\n",
       "    <tr>\n",
       "      <th>153</th>\n",
       "      <td>0.002660</td>\n",
       "      <td>127.414374</td>\n",
       "      <td>0.085626</td>\n",
       "      <td>0.295055</td>\n",
       "    </tr>\n",
       "    <tr>\n",
       "      <th>86</th>\n",
       "      <td>0.008420</td>\n",
       "      <td>127.390592</td>\n",
       "      <td>0.109408</td>\n",
       "      <td>0.045251</td>\n",
       "    </tr>\n",
       "    <tr>\n",
       "      <th>135</th>\n",
       "      <td>0.017645</td>\n",
       "      <td>127.611598</td>\n",
       "      <td>0.111598</td>\n",
       "      <td>0.165868</td>\n",
       "    </tr>\n",
       "    <tr>\n",
       "      <th>122</th>\n",
       "      <td>0.004828</td>\n",
       "      <td>127.614394</td>\n",
       "      <td>0.114394</td>\n",
       "      <td>0.227844</td>\n",
       "    </tr>\n",
       "    <tr>\n",
       "      <th>150</th>\n",
       "      <td>0.009388</td>\n",
       "      <td>127.632046</td>\n",
       "      <td>0.132046</td>\n",
       "      <td>0.073749</td>\n",
       "    </tr>\n",
       "    <tr>\n",
       "      <th>149</th>\n",
       "      <td>0.010588</td>\n",
       "      <td>127.705130</td>\n",
       "      <td>0.205130</td>\n",
       "      <td>0.052170</td>\n",
       "    </tr>\n",
       "    <tr>\n",
       "      <th>161</th>\n",
       "      <td>0.008564</td>\n",
       "      <td>127.178898</td>\n",
       "      <td>0.321102</td>\n",
       "      <td>0.387520</td>\n",
       "    </tr>\n",
       "  </tbody>\n",
       "</table>\n",
       "</div>"
      ],
      "text/plain": [
       "     pi_deviation        Mean  mean_deviation  p_value_deviation\n",
       "30       0.007324  127.490968        0.009032           0.270481\n",
       "105      0.002140  127.512444        0.012444           0.395692\n",
       "102      0.002716  127.485382        0.014618           0.367914\n",
       "169      0.002708  127.474842        0.025158           0.312015\n",
       "45       0.000836  127.526764        0.026764           0.290890\n",
       "75       0.004052  127.473026        0.026974           0.224544\n",
       "225      0.000460  127.528304        0.028304           0.054775\n",
       "106      0.003284  127.466532        0.033468           0.388576\n",
       "60       0.003140  127.450642        0.049358           0.215533\n",
       "90       0.000116  127.435050        0.064950           0.347723\n",
       "195      0.001276  127.417554        0.082446           0.013847\n",
       "165      0.002428  127.585176        0.085176           0.333809\n",
       "153      0.002660  127.414374        0.085626           0.295055\n",
       "86       0.008420  127.390592        0.109408           0.045251\n",
       "135      0.017645  127.611598        0.111598           0.165868\n",
       "122      0.004828  127.614394        0.114394           0.227844\n",
       "150      0.009388  127.632046        0.132046           0.073749\n",
       "149      0.010588  127.705130        0.205130           0.052170\n",
       "161      0.008564  127.178898        0.321102           0.387520"
      ]
     },
     "execution_count": 11,
     "metadata": {},
     "output_type": "execute_result"
    }
   ],
   "source": [
    "d_five_p10_90[['pi_deviation', 'Mean', 'mean_deviation', 'p_value_deviation']].sort_values(by='mean_deviation')"
   ]
  },
  {
   "cell_type": "code",
   "execution_count": null,
   "metadata": {
    "collapsed": true
   },
   "outputs": [],
   "source": []
  }
 ],
 "metadata": {
  "kernelspec": {
   "display_name": "Python 3",
   "language": "python",
   "name": "python3"
  },
  "language_info": {
   "codemirror_mode": {
    "name": "ipython",
    "version": 3
   },
   "file_extension": ".py",
   "mimetype": "text/x-python",
   "name": "python",
   "nbconvert_exporter": "python",
   "pygments_lexer": "ipython3",
   "version": "3.4.1"
  }
 },
 "nbformat": 4,
 "nbformat_minor": 0
}
