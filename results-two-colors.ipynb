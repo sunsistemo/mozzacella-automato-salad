{
 "cells": [
  {
   "cell_type": "code",
   "execution_count": 1,
   "metadata": {
    "collapsed": false
   },
   "outputs": [],
   "source": [
    "import json\n",
    "import pandas as pd\n",
    "import matplotlib.pyplot as plt\n",
    "import numpy as np\n",
    "from scipy import integrate\n",
    "from scipy.stats import chisqprob\n",
    "from gmpy2 import digits\n",
    "\n",
    "import recipe"
   ]
  },
  {
   "cell_type": "code",
   "execution_count": 2,
   "metadata": {
    "collapsed": false
   },
   "outputs": [],
   "source": [
    "s_rands_paper = recipe.rands_paper\n",
    "d_five = recipe.five\n",
    "d_five['Entropy_norm'] = d_five['Entropy'] / 8\n",
    "d_five['Entropy'] = d_five['Entropy_norm']\n",
    "d_five = d_five.drop('Entropy_norm', axis=1)\n",
    "\n",
    "d_five['p_value_deviation'] = np.abs(d_five['p-value'] - 0.5)"
   ]
  },
  {
   "cell_type": "code",
   "execution_count": 3,
   "metadata": {
    "collapsed": false
   },
   "outputs": [
    {
     "name": "stdout",
     "output_type": "stream",
     "text": [
      "Random according to paper: #28 {135, 15, 149, 150, 153, 154, 30, 165, 166, 169, 170, 45, 180, 60, 195, 75, 210, 85, 86, 89, 90, 225, 101, 102, 105, 106, 240, 120}\n",
      "Between  5 - 95%: #21 {161, 225, 195, 101, 102, 135, 165, 105, 106, 75, 169, 45, 149, 86, 150, 120, 153, 90, 122, 60, 30}\n",
      "Between 10 - 90%: #19 {161, 225, 195, 165, 102, 135, 105, 106, 75, 169, 45, 149, 86, 150, 153, 90, 122, 60, 30}\n"
     ]
    }
   ],
   "source": [
    "d_five_p10_90 = d_five[(d_five['p-value'] > 0.1) & (d_five['p-value'] < 0.9)]\n",
    "d_five_p05_95 = d_five[(d_five['p-value'] > 0.05) & (d_five['p-value'] < 0.95)]\n",
    "d_rands_paper = d_five[d_five.rule.isin(s_rands_paper)]\n",
    "\n",
    "len_five_p10_90 = len(d_five_p10_90)\n",
    "len_five_p05_95 = len(d_five_p05_95)\n",
    "len_rands_paper = len(d_rands_paper)\n",
    "\n",
    "print(\"Random according to paper: #%d \" % len_rands_paper, end=\"\")\n",
    "print(set(d_rands_paper.rule))\n",
    "print(\"Between  5 - 95%%: #%d \" % len_five_p05_95, end=\"\")\n",
    "print(set(d_five_p05_95.rule))\n",
    "print(\"Between 10 - 90%%: #%d \" % len_five_p10_90, end=\"\")\n",
    "print(set(d_five_p10_90.rule))"
   ]
  },
  {
   "cell_type": "code",
   "execution_count": 45,
   "metadata": {
    "collapsed": false,
    "scrolled": false
   },
   "outputs": [
    {
     "name": "stdout",
     "output_type": "stream",
     "text": [
      "Random from paper but not according to us: {101, 166, 170, 15, 240, 210, 180, 85, 120, 89, 154}\n",
      "\n",
      "Random from paper but not according to us: {161, 122}\n"
     ]
    }
   ],
   "source": [
    "s_five_p05_p95 = set(d_five_p05_95.rule)\n",
    "s_five_p10_p90 = set(d_five_p10_90.rule)\n",
    "\n",
    "print(\"Random from paper but not according to us: \", end=\"\") \n",
    "print(set(d_rands_paper.rule) - set(d_five_p10_90.rule))\n",
    "\n",
    "print()\n",
    "\n",
    "print(\"Random from paper but not according to us: \", end=\"\") \n",
    "print(set(d_five_p10_90.rule) - set(d_rands_paper.rule))\n"
   ]
  },
  {
   "cell_type": "code",
   "execution_count": 48,
   "metadata": {
    "collapsed": false
   },
   "outputs": [
    {
     "data": {
      "text/html": [
       "<div>\n",
       "<table border=\"1\" class=\"dataframe\">\n",
       "  <thead>\n",
       "    <tr style=\"text-align: right;\">\n",
       "      <th></th>\n",
       "      <th>Entropy</th>\n",
       "      <th>mean_deviation</th>\n",
       "      <th>p-value</th>\n",
       "    </tr>\n",
       "  </thead>\n",
       "  <tbody>\n",
       "    <tr>\n",
       "      <th>15</th>\n",
       "      <td>0.903346</td>\n",
       "      <td>4.724540</td>\n",
       "      <td>0.000000</td>\n",
       "    </tr>\n",
       "    <tr>\n",
       "      <th>85</th>\n",
       "      <td>0.872812</td>\n",
       "      <td>0.162692</td>\n",
       "      <td>0.000000</td>\n",
       "    </tr>\n",
       "    <tr>\n",
       "      <th>89</th>\n",
       "      <td>0.999961</td>\n",
       "      <td>0.089662</td>\n",
       "      <td>0.950925</td>\n",
       "    </tr>\n",
       "    <tr>\n",
       "      <th>101</th>\n",
       "      <td>0.999960</td>\n",
       "      <td>0.053356</td>\n",
       "      <td>0.943729</td>\n",
       "    </tr>\n",
       "    <tr>\n",
       "      <th>120</th>\n",
       "      <td>0.999947</td>\n",
       "      <td>0.171428</td>\n",
       "      <td>0.050093</td>\n",
       "    </tr>\n",
       "    <tr>\n",
       "      <th>154</th>\n",
       "      <td>0.905389</td>\n",
       "      <td>0.104222</td>\n",
       "      <td>0.000000</td>\n",
       "    </tr>\n",
       "    <tr>\n",
       "      <th>166</th>\n",
       "      <td>0.908783</td>\n",
       "      <td>6.754538</td>\n",
       "      <td>0.000000</td>\n",
       "    </tr>\n",
       "    <tr>\n",
       "      <th>170</th>\n",
       "      <td>0.880623</td>\n",
       "      <td>3.419920</td>\n",
       "      <td>0.000000</td>\n",
       "    </tr>\n",
       "    <tr>\n",
       "      <th>180</th>\n",
       "      <td>0.888805</td>\n",
       "      <td>1.506982</td>\n",
       "      <td>0.000000</td>\n",
       "    </tr>\n",
       "    <tr>\n",
       "      <th>210</th>\n",
       "      <td>0.891130</td>\n",
       "      <td>12.487088</td>\n",
       "      <td>0.000000</td>\n",
       "    </tr>\n",
       "    <tr>\n",
       "      <th>240</th>\n",
       "      <td>0.902752</td>\n",
       "      <td>11.236362</td>\n",
       "      <td>0.000000</td>\n",
       "    </tr>\n",
       "  </tbody>\n",
       "</table>\n",
       "</div>"
      ],
      "text/plain": [
       "      Entropy  mean_deviation   p-value\n",
       "15   0.903346        4.724540  0.000000\n",
       "85   0.872812        0.162692  0.000000\n",
       "89   0.999961        0.089662  0.950925\n",
       "101  0.999960        0.053356  0.943729\n",
       "120  0.999947        0.171428  0.050093\n",
       "154  0.905389        0.104222  0.000000\n",
       "166  0.908783        6.754538  0.000000\n",
       "170  0.880623        3.419920  0.000000\n",
       "180  0.888805        1.506982  0.000000\n",
       "210  0.891130       12.487088  0.000000\n",
       "240  0.902752       11.236362  0.000000"
      ]
     },
     "execution_count": 48,
     "metadata": {},
     "output_type": "execute_result"
    }
   ],
   "source": [
    "d_five[d_five.rule.isin(set(d_rands_paper.rule) - set(d_five_p10_90.rule))][['Entropy', 'mean_deviation', 'p-value']]"
   ]
  },
  {
   "cell_type": "markdown",
   "metadata": {},
   "source": [
    "# Plots"
   ]
  },
  {
   "cell_type": "markdown",
   "metadata": {},
   "source": [
    "### Entropy vs langton\n",
    "blue = all, red = our random"
   ]
  },
  {
   "cell_type": "code",
   "execution_count": 5,
   "metadata": {
    "collapsed": false
   },
   "outputs": [],
   "source": [
    "# Plot Entropy of all rules against the langton parameter\n",
    "ax1 = plt.gca()\n",
    "d_five.plot(\"langton\", \"Entropy\", ax=ax1, kind=\"scatter\", marker='o', alpha=.5, s=40)\n",
    "d_five_p10_90.plot(\"langton\", \"Entropy\", ax=ax1, kind=\"scatter\", color=\"r\", marker='o', alpha=.5, s=40)\n",
    "plt.show()\n",
    "\n",
    "ax1 = plt.gca()\n",
    "d_five.plot(\"langton\", \"Entropy\", ax=ax1, kind=\"scatter\", marker='o', alpha=.5, s=40)\n",
    "d_five_p10_90.plot(\"langton\", \"Entropy\", ax=ax1, kind=\"scatter\", color=\"r\", marker='o', alpha=.5, s=40)\n",
    "plt.savefig('plots/entropy-langton.png', format='png', dpi=400)\n",
    "\n",
    "ax1 = plt.gca()\n",
    "d_five.plot(\"langton\", \"Entropy\", ax=ax1, kind=\"scatter\", marker='o', alpha=.5, s=40)\n",
    "d_five_p10_90.plot(\"langton\", \"Entropy\", ax=ax1, kind=\"scatter\", color=\"r\", marker='o', alpha=.5, s=40)\n",
    "plt.savefig('plots/entropy-langton.svg', format='svg', dpi=400)"
   ]
  },
  {
   "cell_type": "markdown",
   "metadata": {},
   "source": [
    "### Chi-square vs langton\n",
    "blue = all, red = our random"
   ]
  },
  {
   "cell_type": "code",
   "execution_count": 6,
   "metadata": {
    "collapsed": false
   },
   "outputs": [],
   "source": [
    "# Plot Chi-Square of all rules against the langton parameter\n",
    "ax2 = plt.gca()\n",
    "d_five.plot(\"langton\", \"Chi-square\", ax=ax2, logy=True, kind=\"scatter\", marker='o', alpha=.5, s=40)\n",
    "d_five_p10_90.plot(\"langton\", \"Chi-square\", ax=ax2, logy=True, kind=\"scatter\", color=\"r\", marker='o', alpha=.5, s=40)\n",
    "plt.show()\n",
    "\n",
    "ax2 = plt.gca()\n",
    "d_five.plot(\"langton\", \"Chi-square\", ax=ax2, logy=True, kind=\"scatter\", marker='o', alpha=.5, s=40)\n",
    "d_five_p10_90.plot(\"langton\", \"Chi-square\", ax=ax2, logy=True, kind=\"scatter\", color=\"r\", marker='o', alpha=.5, s=40)\n",
    "plt.savefig('plots/chisquare-langton.png', format='png', dpi=400)\n",
    "\n",
    "ax2 = plt.gca()\n",
    "d_five.plot(\"langton\", \"Chi-square\", ax=ax2, logy=True, kind=\"scatter\", marker='o', alpha=.5, s=40)\n",
    "d_five_p10_90.plot(\"langton\", \"Chi-square\", ax=ax2, logy=True, kind=\"scatter\", color=\"r\", marker='o', alpha=.5, s=40)\n",
    "plt.savefig('plots/chisquare-langton.svg', format='svg', dpi=400)"
   ]
  },
  {
   "cell_type": "markdown",
   "metadata": {},
   "source": [
    "### Mean vs langton\n",
    "blue = all, red = our random"
   ]
  },
  {
   "cell_type": "code",
   "execution_count": 7,
   "metadata": {
    "collapsed": false
   },
   "outputs": [],
   "source": [
    "# Plot Mean of all rules against the langton parameter\n",
    "ax2 = plt.gca()\n",
    "#d_five.plot(\"langton\", \"Mean\", ax=ax2, logy=True, kind=\"scatter\", marker='o', alpha=.5, s=40)\n",
    "d_five_p10_90.plot(\"langton\", \"Mean\", ax=ax2, kind=\"scatter\", color=\"r\", marker='o', alpha=.5, s=40)\n",
    "plt.show()\n",
    "\n",
    "ax2 = plt.gca()\n",
    "#d_five.plot(\"langton\", \"Chi-square\", ax=ax2, logy=True, kind=\"scatter\", marker='o', alpha=.5, s=40)\n",
    "d_five_p10_90.plot(\"langton\", \"Mean\", ax=ax2, kind=\"scatter\", color=\"r\", marker='o', alpha=.5, s=40)\n",
    "plt.savefig('plots/mean-langton.png', format='png', dpi=400)\n",
    "\n",
    "ax2 = plt.gca()\n",
    "#d_five.plot(\"langton\", \"Chi-square\", ax=ax2, logy=True, kind=\"scatter\", marker='o', alpha=.5, s=40)\n",
    "d_five_p10_90.plot(\"langton\", \"Mean\", ax=ax2, kind=\"scatter\", color=\"r\", marker='o', alpha=.5, s=40)\n",
    "plt.savefig('plots/mean-langton.svg', format='svg', dpi=400)"
   ]
  },
  {
   "cell_type": "code",
   "execution_count": null,
   "metadata": {
    "collapsed": true
   },
   "outputs": [],
   "source": []
  },
  {
   "cell_type": "code",
   "execution_count": 8,
   "metadata": {
    "collapsed": false
   },
   "outputs": [],
   "source": [
    "# Plot Chi-Sqaure of all random paper rules against the langton parameter\n",
    "ax2 = plt.gca()\n",
    "d_rands_paper.plot(\"langton\", \"Chi-square\", ax=ax2, logy=True, kind=\"scatter\", marker='o', alpha=.5, s=40)\n",
    "\n",
    "plt.show()"
   ]
  },
  {
   "cell_type": "code",
   "execution_count": 9,
   "metadata": {
    "collapsed": false
   },
   "outputs": [
    {
     "name": "stdout",
     "output_type": "stream",
     "text": [
      "Number of random rules according to paper: 28\n",
      "Number of paper rules with high Chi-Square: 8 {166, 170, 15, 240, 210, 180, 85, 154}\n"
     ]
    }
   ],
   "source": [
    "# Cutoff rules with high Chi-Square (not random)\n",
    "d_rands_paper_chi = d_rands_paper[(d_rands_paper[\"Chi-square\"] < 300)] # 300 or 1E5 is same cutoff\n",
    "\n",
    "print(\"Number of random rules according to paper: %d\" % len(d_rands_paper))\n",
    "print(\"Number of paper rules with high Chi-Square: %d \" % (len(d_rands_paper) - len(d_rands_paper_chi)), end=\"\")\n",
    "print(set(d_rands_paper.rule) - set(d_rands_paper_chi.rule))"
   ]
  },
  {
   "cell_type": "code",
   "execution_count": 10,
   "metadata": {
    "collapsed": false
   },
   "outputs": [],
   "source": [
    "selection = d_five_p10_90[['rule', 'pi_deviation', 'mean_deviation', 'p_value_deviation']]"
   ]
  },
  {
   "cell_type": "code",
   "execution_count": 31,
   "metadata": {
    "collapsed": false
   },
   "outputs": [
    {
     "data": {
      "text/html": [
       "<div>\n",
       "<table border=\"1\" class=\"dataframe\">\n",
       "  <thead>\n",
       "    <tr style=\"text-align: right;\">\n",
       "      <th></th>\n",
       "      <th>rule</th>\n",
       "      <th>pi_deviation</th>\n",
       "      <th>mean_deviation</th>\n",
       "      <th>p_value_deviation</th>\n",
       "    </tr>\n",
       "  </thead>\n",
       "  <tbody>\n",
       "    <tr>\n",
       "      <th>30</th>\n",
       "      <td>30</td>\n",
       "      <td>0.007324</td>\n",
       "      <td>0.009032</td>\n",
       "      <td>0.270481</td>\n",
       "    </tr>\n",
       "    <tr>\n",
       "      <th>45</th>\n",
       "      <td>45</td>\n",
       "      <td>0.000836</td>\n",
       "      <td>0.026764</td>\n",
       "      <td>0.290890</td>\n",
       "    </tr>\n",
       "    <tr>\n",
       "      <th>60</th>\n",
       "      <td>60</td>\n",
       "      <td>0.003140</td>\n",
       "      <td>0.049358</td>\n",
       "      <td>0.215533</td>\n",
       "    </tr>\n",
       "    <tr>\n",
       "      <th>75</th>\n",
       "      <td>75</td>\n",
       "      <td>0.004052</td>\n",
       "      <td>0.026974</td>\n",
       "      <td>0.224544</td>\n",
       "    </tr>\n",
       "    <tr>\n",
       "      <th>86</th>\n",
       "      <td>86</td>\n",
       "      <td>0.008420</td>\n",
       "      <td>0.109408</td>\n",
       "      <td>0.045251</td>\n",
       "    </tr>\n",
       "    <tr>\n",
       "      <th>90</th>\n",
       "      <td>90</td>\n",
       "      <td>0.000116</td>\n",
       "      <td>0.064950</td>\n",
       "      <td>0.347723</td>\n",
       "    </tr>\n",
       "    <tr>\n",
       "      <th>102</th>\n",
       "      <td>102</td>\n",
       "      <td>0.002716</td>\n",
       "      <td>0.014618</td>\n",
       "      <td>0.367914</td>\n",
       "    </tr>\n",
       "    <tr>\n",
       "      <th>105</th>\n",
       "      <td>105</td>\n",
       "      <td>0.002140</td>\n",
       "      <td>0.012444</td>\n",
       "      <td>0.395692</td>\n",
       "    </tr>\n",
       "    <tr>\n",
       "      <th>106</th>\n",
       "      <td>106</td>\n",
       "      <td>0.003284</td>\n",
       "      <td>0.033468</td>\n",
       "      <td>0.388576</td>\n",
       "    </tr>\n",
       "    <tr>\n",
       "      <th>122</th>\n",
       "      <td>122</td>\n",
       "      <td>0.004828</td>\n",
       "      <td>0.114394</td>\n",
       "      <td>0.227844</td>\n",
       "    </tr>\n",
       "    <tr>\n",
       "      <th>135</th>\n",
       "      <td>135</td>\n",
       "      <td>0.017645</td>\n",
       "      <td>0.111598</td>\n",
       "      <td>0.165868</td>\n",
       "    </tr>\n",
       "    <tr>\n",
       "      <th>149</th>\n",
       "      <td>149</td>\n",
       "      <td>0.010588</td>\n",
       "      <td>0.205130</td>\n",
       "      <td>0.052170</td>\n",
       "    </tr>\n",
       "    <tr>\n",
       "      <th>150</th>\n",
       "      <td>150</td>\n",
       "      <td>0.009388</td>\n",
       "      <td>0.132046</td>\n",
       "      <td>0.073749</td>\n",
       "    </tr>\n",
       "    <tr>\n",
       "      <th>153</th>\n",
       "      <td>153</td>\n",
       "      <td>0.002660</td>\n",
       "      <td>0.085626</td>\n",
       "      <td>0.295055</td>\n",
       "    </tr>\n",
       "    <tr>\n",
       "      <th>161</th>\n",
       "      <td>161</td>\n",
       "      <td>0.008564</td>\n",
       "      <td>0.321102</td>\n",
       "      <td>0.387520</td>\n",
       "    </tr>\n",
       "    <tr>\n",
       "      <th>165</th>\n",
       "      <td>165</td>\n",
       "      <td>0.002428</td>\n",
       "      <td>0.085176</td>\n",
       "      <td>0.333809</td>\n",
       "    </tr>\n",
       "    <tr>\n",
       "      <th>169</th>\n",
       "      <td>169</td>\n",
       "      <td>0.002708</td>\n",
       "      <td>0.025158</td>\n",
       "      <td>0.312015</td>\n",
       "    </tr>\n",
       "    <tr>\n",
       "      <th>195</th>\n",
       "      <td>195</td>\n",
       "      <td>0.001276</td>\n",
       "      <td>0.082446</td>\n",
       "      <td>0.013847</td>\n",
       "    </tr>\n",
       "    <tr>\n",
       "      <th>225</th>\n",
       "      <td>225</td>\n",
       "      <td>0.000460</td>\n",
       "      <td>0.028304</td>\n",
       "      <td>0.054775</td>\n",
       "    </tr>\n",
       "  </tbody>\n",
       "</table>\n",
       "</div>"
      ],
      "text/plain": [
       "     rule  pi_deviation  mean_deviation  p_value_deviation\n",
       "30     30      0.007324        0.009032           0.270481\n",
       "45     45      0.000836        0.026764           0.290890\n",
       "60     60      0.003140        0.049358           0.215533\n",
       "75     75      0.004052        0.026974           0.224544\n",
       "86     86      0.008420        0.109408           0.045251\n",
       "90     90      0.000116        0.064950           0.347723\n",
       "102   102      0.002716        0.014618           0.367914\n",
       "105   105      0.002140        0.012444           0.395692\n",
       "106   106      0.003284        0.033468           0.388576\n",
       "122   122      0.004828        0.114394           0.227844\n",
       "135   135      0.017645        0.111598           0.165868\n",
       "149   149      0.010588        0.205130           0.052170\n",
       "150   150      0.009388        0.132046           0.073749\n",
       "153   153      0.002660        0.085626           0.295055\n",
       "161   161      0.008564        0.321102           0.387520\n",
       "165   165      0.002428        0.085176           0.333809\n",
       "169   169      0.002708        0.025158           0.312015\n",
       "195   195      0.001276        0.082446           0.013847\n",
       "225   225      0.000460        0.028304           0.054775"
      ]
     },
     "execution_count": 31,
     "metadata": {},
     "output_type": "execute_result"
    }
   ],
   "source": [
    "selection"
   ]
  },
  {
   "cell_type": "code",
   "execution_count": 11,
   "metadata": {
    "collapsed": false
   },
   "outputs": [],
   "source": [
    "p_value_top_10 = selection.sort_values(by='p_value_deviation').head(10)\n",
    "mean_top_10 = selection.sort_values(by='mean_deviation').head(10)\n",
    "pi_top_10 = selection.sort_values(by='pi_deviation').head(10)"
   ]
  },
  {
   "cell_type": "code",
   "execution_count": 12,
   "metadata": {
    "collapsed": false
   },
   "outputs": [
    {
     "name": "stdout",
     "output_type": "stream",
     "text": [
      "Top 10 p-value: \t[195  86 149 225 150 135  60  75 122  30]\n",
      "Top 10 Mean: \t\t[ 30 105 102 169  45  75 225 106  60  90]\n",
      "Top 10 Monte-Carlo-Pi: \t[ 90 225  45 195 105 165 153 169 102  60]\n",
      "\n",
      "Both in top 10 p-value and Mean: {225, 75, 60, 30}\n",
      "In all three top 10s: {225, 60}\n"
     ]
    }
   ],
   "source": [
    "print(\"Top 10 p-value: \\t\", end=\"\")\n",
    "print(p_value_top_10.rule.values)\n",
    "print(\"Top 10 Mean: \\t\\t\", end=\"\")\n",
    "print(mean_top_10.rule.values)\n",
    "print(\"Top 10 Monte-Carlo-Pi: \\t\", end=\"\")\n",
    "print(pi_top_10.rule.values)\n",
    "\n",
    "print()\n",
    "\n",
    "print(\"Both in top 10 p-value and Mean: \", end=\"\")\n",
    "print(set(p_value_top_10.rule.values) & set(mean_top_10.rule.values))\n",
    "print(\"In all three top 10s: \", end=\"\")\n",
    "print(set(p_value_top_10.rule.values) & set(mean_top_10.rule.values) & set(pi_top_10.rule.values))"
   ]
  },
  {
   "cell_type": "code",
   "execution_count": 13,
   "metadata": {
    "collapsed": false
   },
   "outputs": [
    {
     "data": {
      "text/html": [
       "<div>\n",
       "<table border=\"1\" class=\"dataframe\">\n",
       "  <thead>\n",
       "    <tr style=\"text-align: right;\">\n",
       "      <th></th>\n",
       "      <th>rule</th>\n",
       "      <th>pi_deviation</th>\n",
       "      <th>mean_deviation</th>\n",
       "      <th>p_value_deviation</th>\n",
       "    </tr>\n",
       "  </thead>\n",
       "  <tbody>\n",
       "    <tr>\n",
       "      <th>60</th>\n",
       "      <td>60</td>\n",
       "      <td>0.00314</td>\n",
       "      <td>0.049358</td>\n",
       "      <td>0.215533</td>\n",
       "    </tr>\n",
       "    <tr>\n",
       "      <th>225</th>\n",
       "      <td>225</td>\n",
       "      <td>0.00046</td>\n",
       "      <td>0.028304</td>\n",
       "      <td>0.054775</td>\n",
       "    </tr>\n",
       "  </tbody>\n",
       "</table>\n",
       "</div>"
      ],
      "text/plain": [
       "     rule  pi_deviation  mean_deviation  p_value_deviation\n",
       "60     60       0.00314        0.049358           0.215533\n",
       "225   225       0.00046        0.028304           0.054775"
      ]
     },
     "execution_count": 13,
     "metadata": {},
     "output_type": "execute_result"
    }
   ],
   "source": [
    "selection[selection.rule.isin(set(p_value_top_10.rule.values) & set(mean_top_10.rule.values) & set(pi_top_10.rule.values))]"
   ]
  },
  {
   "cell_type": "code",
   "execution_count": 42,
   "metadata": {
    "collapsed": false
   },
   "outputs": [
    {
     "data": {
      "text/html": [
       "<div>\n",
       "<table border=\"1\" class=\"dataframe\">\n",
       "  <thead>\n",
       "    <tr style=\"text-align: right;\">\n",
       "      <th></th>\n",
       "      <th>rule</th>\n",
       "      <th>pi_deviation</th>\n",
       "      <th>mean_deviation</th>\n",
       "      <th>p_value_deviation</th>\n",
       "    </tr>\n",
       "  </thead>\n",
       "  <tbody>\n",
       "    <tr>\n",
       "      <th>195</th>\n",
       "      <td>195</td>\n",
       "      <td>0.001276</td>\n",
       "      <td>0.082446</td>\n",
       "      <td>0.013847</td>\n",
       "    </tr>\n",
       "    <tr>\n",
       "      <th>86</th>\n",
       "      <td>86</td>\n",
       "      <td>0.008420</td>\n",
       "      <td>0.109408</td>\n",
       "      <td>0.045251</td>\n",
       "    </tr>\n",
       "    <tr>\n",
       "      <th>149</th>\n",
       "      <td>149</td>\n",
       "      <td>0.010588</td>\n",
       "      <td>0.205130</td>\n",
       "      <td>0.052170</td>\n",
       "    </tr>\n",
       "    <tr>\n",
       "      <th>225</th>\n",
       "      <td>225</td>\n",
       "      <td>0.000460</td>\n",
       "      <td>0.028304</td>\n",
       "      <td>0.054775</td>\n",
       "    </tr>\n",
       "    <tr>\n",
       "      <th>150</th>\n",
       "      <td>150</td>\n",
       "      <td>0.009388</td>\n",
       "      <td>0.132046</td>\n",
       "      <td>0.073749</td>\n",
       "    </tr>\n",
       "    <tr>\n",
       "      <th>135</th>\n",
       "      <td>135</td>\n",
       "      <td>0.017645</td>\n",
       "      <td>0.111598</td>\n",
       "      <td>0.165868</td>\n",
       "    </tr>\n",
       "    <tr>\n",
       "      <th>60</th>\n",
       "      <td>60</td>\n",
       "      <td>0.003140</td>\n",
       "      <td>0.049358</td>\n",
       "      <td>0.215533</td>\n",
       "    </tr>\n",
       "    <tr>\n",
       "      <th>75</th>\n",
       "      <td>75</td>\n",
       "      <td>0.004052</td>\n",
       "      <td>0.026974</td>\n",
       "      <td>0.224544</td>\n",
       "    </tr>\n",
       "    <tr>\n",
       "      <th>122</th>\n",
       "      <td>122</td>\n",
       "      <td>0.004828</td>\n",
       "      <td>0.114394</td>\n",
       "      <td>0.227844</td>\n",
       "    </tr>\n",
       "    <tr>\n",
       "      <th>30</th>\n",
       "      <td>30</td>\n",
       "      <td>0.007324</td>\n",
       "      <td>0.009032</td>\n",
       "      <td>0.270481</td>\n",
       "    </tr>\n",
       "  </tbody>\n",
       "</table>\n",
       "</div>"
      ],
      "text/plain": [
       "     rule  pi_deviation  mean_deviation  p_value_deviation\n",
       "195   195      0.001276        0.082446           0.013847\n",
       "86     86      0.008420        0.109408           0.045251\n",
       "149   149      0.010588        0.205130           0.052170\n",
       "225   225      0.000460        0.028304           0.054775\n",
       "150   150      0.009388        0.132046           0.073749\n",
       "135   135      0.017645        0.111598           0.165868\n",
       "60     60      0.003140        0.049358           0.215533\n",
       "75     75      0.004052        0.026974           0.224544\n",
       "122   122      0.004828        0.114394           0.227844\n",
       "30     30      0.007324        0.009032           0.270481"
      ]
     },
     "execution_count": 42,
     "metadata": {},
     "output_type": "execute_result"
    }
   ],
   "source": [
    "p_value_top_10"
   ]
  },
  {
   "cell_type": "code",
   "execution_count": 43,
   "metadata": {
    "collapsed": false
   },
   "outputs": [
    {
     "data": {
      "text/html": [
       "<div>\n",
       "<table border=\"1\" class=\"dataframe\">\n",
       "  <thead>\n",
       "    <tr style=\"text-align: right;\">\n",
       "      <th></th>\n",
       "      <th>rule</th>\n",
       "      <th>pi_deviation</th>\n",
       "      <th>mean_deviation</th>\n",
       "      <th>p_value_deviation</th>\n",
       "    </tr>\n",
       "  </thead>\n",
       "  <tbody>\n",
       "    <tr>\n",
       "      <th>30</th>\n",
       "      <td>30</td>\n",
       "      <td>0.007324</td>\n",
       "      <td>0.009032</td>\n",
       "      <td>0.270481</td>\n",
       "    </tr>\n",
       "    <tr>\n",
       "      <th>105</th>\n",
       "      <td>105</td>\n",
       "      <td>0.002140</td>\n",
       "      <td>0.012444</td>\n",
       "      <td>0.395692</td>\n",
       "    </tr>\n",
       "    <tr>\n",
       "      <th>102</th>\n",
       "      <td>102</td>\n",
       "      <td>0.002716</td>\n",
       "      <td>0.014618</td>\n",
       "      <td>0.367914</td>\n",
       "    </tr>\n",
       "    <tr>\n",
       "      <th>169</th>\n",
       "      <td>169</td>\n",
       "      <td>0.002708</td>\n",
       "      <td>0.025158</td>\n",
       "      <td>0.312015</td>\n",
       "    </tr>\n",
       "    <tr>\n",
       "      <th>45</th>\n",
       "      <td>45</td>\n",
       "      <td>0.000836</td>\n",
       "      <td>0.026764</td>\n",
       "      <td>0.290890</td>\n",
       "    </tr>\n",
       "    <tr>\n",
       "      <th>75</th>\n",
       "      <td>75</td>\n",
       "      <td>0.004052</td>\n",
       "      <td>0.026974</td>\n",
       "      <td>0.224544</td>\n",
       "    </tr>\n",
       "    <tr>\n",
       "      <th>225</th>\n",
       "      <td>225</td>\n",
       "      <td>0.000460</td>\n",
       "      <td>0.028304</td>\n",
       "      <td>0.054775</td>\n",
       "    </tr>\n",
       "    <tr>\n",
       "      <th>106</th>\n",
       "      <td>106</td>\n",
       "      <td>0.003284</td>\n",
       "      <td>0.033468</td>\n",
       "      <td>0.388576</td>\n",
       "    </tr>\n",
       "    <tr>\n",
       "      <th>60</th>\n",
       "      <td>60</td>\n",
       "      <td>0.003140</td>\n",
       "      <td>0.049358</td>\n",
       "      <td>0.215533</td>\n",
       "    </tr>\n",
       "    <tr>\n",
       "      <th>90</th>\n",
       "      <td>90</td>\n",
       "      <td>0.000116</td>\n",
       "      <td>0.064950</td>\n",
       "      <td>0.347723</td>\n",
       "    </tr>\n",
       "  </tbody>\n",
       "</table>\n",
       "</div>"
      ],
      "text/plain": [
       "     rule  pi_deviation  mean_deviation  p_value_deviation\n",
       "30     30      0.007324        0.009032           0.270481\n",
       "105   105      0.002140        0.012444           0.395692\n",
       "102   102      0.002716        0.014618           0.367914\n",
       "169   169      0.002708        0.025158           0.312015\n",
       "45     45      0.000836        0.026764           0.290890\n",
       "75     75      0.004052        0.026974           0.224544\n",
       "225   225      0.000460        0.028304           0.054775\n",
       "106   106      0.003284        0.033468           0.388576\n",
       "60     60      0.003140        0.049358           0.215533\n",
       "90     90      0.000116        0.064950           0.347723"
      ]
     },
     "execution_count": 43,
     "metadata": {},
     "output_type": "execute_result"
    }
   ],
   "source": [
    "mean_top_10"
   ]
  },
  {
   "cell_type": "code",
   "execution_count": 44,
   "metadata": {
    "collapsed": false
   },
   "outputs": [
    {
     "data": {
      "text/html": [
       "<div>\n",
       "<table border=\"1\" class=\"dataframe\">\n",
       "  <thead>\n",
       "    <tr style=\"text-align: right;\">\n",
       "      <th></th>\n",
       "      <th>rule</th>\n",
       "      <th>pi_deviation</th>\n",
       "      <th>mean_deviation</th>\n",
       "      <th>p_value_deviation</th>\n",
       "    </tr>\n",
       "  </thead>\n",
       "  <tbody>\n",
       "    <tr>\n",
       "      <th>90</th>\n",
       "      <td>90</td>\n",
       "      <td>0.000116</td>\n",
       "      <td>0.064950</td>\n",
       "      <td>0.347723</td>\n",
       "    </tr>\n",
       "    <tr>\n",
       "      <th>225</th>\n",
       "      <td>225</td>\n",
       "      <td>0.000460</td>\n",
       "      <td>0.028304</td>\n",
       "      <td>0.054775</td>\n",
       "    </tr>\n",
       "    <tr>\n",
       "      <th>45</th>\n",
       "      <td>45</td>\n",
       "      <td>0.000836</td>\n",
       "      <td>0.026764</td>\n",
       "      <td>0.290890</td>\n",
       "    </tr>\n",
       "    <tr>\n",
       "      <th>195</th>\n",
       "      <td>195</td>\n",
       "      <td>0.001276</td>\n",
       "      <td>0.082446</td>\n",
       "      <td>0.013847</td>\n",
       "    </tr>\n",
       "    <tr>\n",
       "      <th>105</th>\n",
       "      <td>105</td>\n",
       "      <td>0.002140</td>\n",
       "      <td>0.012444</td>\n",
       "      <td>0.395692</td>\n",
       "    </tr>\n",
       "    <tr>\n",
       "      <th>165</th>\n",
       "      <td>165</td>\n",
       "      <td>0.002428</td>\n",
       "      <td>0.085176</td>\n",
       "      <td>0.333809</td>\n",
       "    </tr>\n",
       "    <tr>\n",
       "      <th>153</th>\n",
       "      <td>153</td>\n",
       "      <td>0.002660</td>\n",
       "      <td>0.085626</td>\n",
       "      <td>0.295055</td>\n",
       "    </tr>\n",
       "    <tr>\n",
       "      <th>169</th>\n",
       "      <td>169</td>\n",
       "      <td>0.002708</td>\n",
       "      <td>0.025158</td>\n",
       "      <td>0.312015</td>\n",
       "    </tr>\n",
       "    <tr>\n",
       "      <th>102</th>\n",
       "      <td>102</td>\n",
       "      <td>0.002716</td>\n",
       "      <td>0.014618</td>\n",
       "      <td>0.367914</td>\n",
       "    </tr>\n",
       "    <tr>\n",
       "      <th>60</th>\n",
       "      <td>60</td>\n",
       "      <td>0.003140</td>\n",
       "      <td>0.049358</td>\n",
       "      <td>0.215533</td>\n",
       "    </tr>\n",
       "  </tbody>\n",
       "</table>\n",
       "</div>"
      ],
      "text/plain": [
       "     rule  pi_deviation  mean_deviation  p_value_deviation\n",
       "90     90      0.000116        0.064950           0.347723\n",
       "225   225      0.000460        0.028304           0.054775\n",
       "45     45      0.000836        0.026764           0.290890\n",
       "195   195      0.001276        0.082446           0.013847\n",
       "105   105      0.002140        0.012444           0.395692\n",
       "165   165      0.002428        0.085176           0.333809\n",
       "153   153      0.002660        0.085626           0.295055\n",
       "169   169      0.002708        0.025158           0.312015\n",
       "102   102      0.002716        0.014618           0.367914\n",
       "60     60      0.003140        0.049358           0.215533"
      ]
     },
     "execution_count": 44,
     "metadata": {},
     "output_type": "execute_result"
    }
   ],
   "source": [
    "pi_top_10"
   ]
  },
  {
   "cell_type": "markdown",
   "metadata": {},
   "source": [
    "# Python's and linux' RNG\n",
    "\n",
    "### Python's random.randint and linux' /dev/urandom"
   ]
  },
  {
   "cell_type": "code",
   "execution_count": 24,
   "metadata": {
    "collapsed": false
   },
   "outputs": [],
   "source": [
    "def read_results(filename):\n",
    "    results = (File_bytes, Monte_Carlo_Pi, Rule, Serial_Correlation, Entropy, Chi_square, Mean) = [[] for _ in range(7)]\n",
    "    with open(filename) as f:\n",
    "        data = json.load(f)\n",
    "    variables = {\"File-bytes\": File_bytes, \"Monte-Carlo-Pi\": Monte_Carlo_Pi, \"Rule\": Rule, \"Serial-Correlation\": Serial_Correlation,\n",
    "                 \"Entropy\": Entropy, \"Chi-square\": Chi_square, \"Mean\": Mean}\n",
    "    for k, v in variables.items():\n",
    "        v.append(data[k])\n",
    "    results = np.array([np.array(r) for r in results]).T\n",
    "    headers = [\"File-bytes\", \"Monte-Carlo-Pi\", \"Rule\", \"Serial-Correlation\", \"Entropy\", \"Chi-square\", \"Mean\"]\n",
    "    return pd.DataFrame(results, columns=headers)\n",
    "\n",
    "python = read_results('python_1466717839.json')\n",
    "urandom = read_results('urandom_1466717941.json')"
   ]
  },
  {
   "cell_type": "code",
   "execution_count": 36,
   "metadata": {
    "collapsed": false
   },
   "outputs": [],
   "source": [
    "for d in (python, urandom):\n",
    "    d[\"pi_deviation\"] = np.abs(d[\"Monte-Carlo-Pi\"] - np.pi)\n",
    "    d[\"mean_deviation\"] = np.abs(d[\"Mean\"] - 255 / 2)\n",
    "    d[\"p-value\"] = chisqprob(d[\"Chi-square\"], 255)\n",
    "    d['Entropy_norm'] = d['Entropy'] / 8\n",
    "    d['Entropy'] = d['Entropy_norm']\n",
    "    d['p_value_deviation'] = np.abs(d['p-value'] - 0.5)"
   ]
  },
  {
   "cell_type": "code",
   "execution_count": 38,
   "metadata": {
    "collapsed": false
   },
   "outputs": [
    {
     "data": {
      "text/html": [
       "<div>\n",
       "<table border=\"1\" class=\"dataframe\">\n",
       "  <thead>\n",
       "    <tr style=\"text-align: right;\">\n",
       "      <th></th>\n",
       "      <th>pi_deviation</th>\n",
       "      <th>mean_deviation</th>\n",
       "      <th>p_value_deviation</th>\n",
       "    </tr>\n",
       "  </thead>\n",
       "  <tbody>\n",
       "    <tr>\n",
       "      <th>0</th>\n",
       "      <td>0.000801</td>\n",
       "      <td>0.001462</td>\n",
       "      <td>0.462645</td>\n",
       "    </tr>\n",
       "  </tbody>\n",
       "</table>\n",
       "</div>"
      ],
      "text/plain": [
       "   pi_deviation  mean_deviation  p_value_deviation\n",
       "0      0.000801        0.001462           0.462645"
      ]
     },
     "execution_count": 38,
     "metadata": {},
     "output_type": "execute_result"
    }
   ],
   "source": [
    "python[['pi_deviation', 'mean_deviation', 'p_value_deviation']]"
   ]
  },
  {
   "cell_type": "code",
   "execution_count": 39,
   "metadata": {
    "collapsed": false
   },
   "outputs": [
    {
     "data": {
      "text/html": [
       "<div>\n",
       "<table border=\"1\" class=\"dataframe\">\n",
       "  <thead>\n",
       "    <tr style=\"text-align: right;\">\n",
       "      <th></th>\n",
       "      <th>pi_deviation</th>\n",
       "      <th>mean_deviation</th>\n",
       "      <th>p_value_deviation</th>\n",
       "    </tr>\n",
       "  </thead>\n",
       "  <tbody>\n",
       "    <tr>\n",
       "      <th>0</th>\n",
       "      <td>0.001001</td>\n",
       "      <td>0.003288</td>\n",
       "      <td>0.285782</td>\n",
       "    </tr>\n",
       "  </tbody>\n",
       "</table>\n",
       "</div>"
      ],
      "text/plain": [
       "   pi_deviation  mean_deviation  p_value_deviation\n",
       "0      0.001001        0.003288           0.285782"
      ]
     },
     "execution_count": 39,
     "metadata": {},
     "output_type": "execute_result"
    }
   ],
   "source": [
    "urandom[['pi_deviation', 'mean_deviation', 'p_value_deviation']]"
   ]
  },
  {
   "cell_type": "code",
   "execution_count": 41,
   "metadata": {
    "collapsed": false
   },
   "outputs": [
    {
     "data": {
      "text/html": [
       "<div>\n",
       "<table border=\"1\" class=\"dataframe\">\n",
       "  <thead>\n",
       "    <tr style=\"text-align: right;\">\n",
       "      <th></th>\n",
       "      <th>rule</th>\n",
       "      <th>pi_deviation</th>\n",
       "      <th>mean_deviation</th>\n",
       "      <th>p_value_deviation</th>\n",
       "    </tr>\n",
       "  </thead>\n",
       "  <tbody>\n",
       "    <tr>\n",
       "      <th>30</th>\n",
       "      <td>30</td>\n",
       "      <td>0.007324</td>\n",
       "      <td>0.009032</td>\n",
       "      <td>0.270481</td>\n",
       "    </tr>\n",
       "    <tr>\n",
       "      <th>45</th>\n",
       "      <td>45</td>\n",
       "      <td>0.000836</td>\n",
       "      <td>0.026764</td>\n",
       "      <td>0.290890</td>\n",
       "    </tr>\n",
       "    <tr>\n",
       "      <th>60</th>\n",
       "      <td>60</td>\n",
       "      <td>0.003140</td>\n",
       "      <td>0.049358</td>\n",
       "      <td>0.215533</td>\n",
       "    </tr>\n",
       "    <tr>\n",
       "      <th>75</th>\n",
       "      <td>75</td>\n",
       "      <td>0.004052</td>\n",
       "      <td>0.026974</td>\n",
       "      <td>0.224544</td>\n",
       "    </tr>\n",
       "    <tr>\n",
       "      <th>86</th>\n",
       "      <td>86</td>\n",
       "      <td>0.008420</td>\n",
       "      <td>0.109408</td>\n",
       "      <td>0.045251</td>\n",
       "    </tr>\n",
       "    <tr>\n",
       "      <th>90</th>\n",
       "      <td>90</td>\n",
       "      <td>0.000116</td>\n",
       "      <td>0.064950</td>\n",
       "      <td>0.347723</td>\n",
       "    </tr>\n",
       "    <tr>\n",
       "      <th>102</th>\n",
       "      <td>102</td>\n",
       "      <td>0.002716</td>\n",
       "      <td>0.014618</td>\n",
       "      <td>0.367914</td>\n",
       "    </tr>\n",
       "    <tr>\n",
       "      <th>105</th>\n",
       "      <td>105</td>\n",
       "      <td>0.002140</td>\n",
       "      <td>0.012444</td>\n",
       "      <td>0.395692</td>\n",
       "    </tr>\n",
       "    <tr>\n",
       "      <th>106</th>\n",
       "      <td>106</td>\n",
       "      <td>0.003284</td>\n",
       "      <td>0.033468</td>\n",
       "      <td>0.388576</td>\n",
       "    </tr>\n",
       "    <tr>\n",
       "      <th>122</th>\n",
       "      <td>122</td>\n",
       "      <td>0.004828</td>\n",
       "      <td>0.114394</td>\n",
       "      <td>0.227844</td>\n",
       "    </tr>\n",
       "    <tr>\n",
       "      <th>135</th>\n",
       "      <td>135</td>\n",
       "      <td>0.017645</td>\n",
       "      <td>0.111598</td>\n",
       "      <td>0.165868</td>\n",
       "    </tr>\n",
       "    <tr>\n",
       "      <th>149</th>\n",
       "      <td>149</td>\n",
       "      <td>0.010588</td>\n",
       "      <td>0.205130</td>\n",
       "      <td>0.052170</td>\n",
       "    </tr>\n",
       "    <tr>\n",
       "      <th>150</th>\n",
       "      <td>150</td>\n",
       "      <td>0.009388</td>\n",
       "      <td>0.132046</td>\n",
       "      <td>0.073749</td>\n",
       "    </tr>\n",
       "    <tr>\n",
       "      <th>153</th>\n",
       "      <td>153</td>\n",
       "      <td>0.002660</td>\n",
       "      <td>0.085626</td>\n",
       "      <td>0.295055</td>\n",
       "    </tr>\n",
       "    <tr>\n",
       "      <th>161</th>\n",
       "      <td>161</td>\n",
       "      <td>0.008564</td>\n",
       "      <td>0.321102</td>\n",
       "      <td>0.387520</td>\n",
       "    </tr>\n",
       "    <tr>\n",
       "      <th>165</th>\n",
       "      <td>165</td>\n",
       "      <td>0.002428</td>\n",
       "      <td>0.085176</td>\n",
       "      <td>0.333809</td>\n",
       "    </tr>\n",
       "    <tr>\n",
       "      <th>169</th>\n",
       "      <td>169</td>\n",
       "      <td>0.002708</td>\n",
       "      <td>0.025158</td>\n",
       "      <td>0.312015</td>\n",
       "    </tr>\n",
       "    <tr>\n",
       "      <th>195</th>\n",
       "      <td>195</td>\n",
       "      <td>0.001276</td>\n",
       "      <td>0.082446</td>\n",
       "      <td>0.013847</td>\n",
       "    </tr>\n",
       "    <tr>\n",
       "      <th>225</th>\n",
       "      <td>225</td>\n",
       "      <td>0.000460</td>\n",
       "      <td>0.028304</td>\n",
       "      <td>0.054775</td>\n",
       "    </tr>\n",
       "  </tbody>\n",
       "</table>\n",
       "</div>"
      ],
      "text/plain": [
       "     rule  pi_deviation  mean_deviation  p_value_deviation\n",
       "30     30      0.007324        0.009032           0.270481\n",
       "45     45      0.000836        0.026764           0.290890\n",
       "60     60      0.003140        0.049358           0.215533\n",
       "75     75      0.004052        0.026974           0.224544\n",
       "86     86      0.008420        0.109408           0.045251\n",
       "90     90      0.000116        0.064950           0.347723\n",
       "102   102      0.002716        0.014618           0.367914\n",
       "105   105      0.002140        0.012444           0.395692\n",
       "106   106      0.003284        0.033468           0.388576\n",
       "122   122      0.004828        0.114394           0.227844\n",
       "135   135      0.017645        0.111598           0.165868\n",
       "149   149      0.010588        0.205130           0.052170\n",
       "150   150      0.009388        0.132046           0.073749\n",
       "153   153      0.002660        0.085626           0.295055\n",
       "161   161      0.008564        0.321102           0.387520\n",
       "165   165      0.002428        0.085176           0.333809\n",
       "169   169      0.002708        0.025158           0.312015\n",
       "195   195      0.001276        0.082446           0.013847\n",
       "225   225      0.000460        0.028304           0.054775"
      ]
     },
     "execution_count": 41,
     "metadata": {},
     "output_type": "execute_result"
    }
   ],
   "source": [
    "selection"
   ]
  },
  {
   "cell_type": "code",
   "execution_count": null,
   "metadata": {
    "collapsed": true
   },
   "outputs": [],
   "source": []
  }
 ],
 "metadata": {
  "kernelspec": {
   "display_name": "Python 3",
   "language": "python",
   "name": "python3"
  },
  "language_info": {
   "codemirror_mode": {
    "name": "ipython",
    "version": 3
   },
   "file_extension": ".py",
   "mimetype": "text/x-python",
   "name": "python",
   "nbconvert_exporter": "python",
   "pygments_lexer": "ipython3",
   "version": "3.4.1"
  }
 },
 "nbformat": 4,
 "nbformat_minor": 0
}
